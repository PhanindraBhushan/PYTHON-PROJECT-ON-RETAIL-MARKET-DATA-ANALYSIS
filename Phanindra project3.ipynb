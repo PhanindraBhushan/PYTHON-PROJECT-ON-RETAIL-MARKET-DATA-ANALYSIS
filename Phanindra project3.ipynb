{
 "cells": [
  {
   "cell_type": "markdown",
   "id": "9100a741",
   "metadata": {},
   "source": [
    "# Project 3-By Phanindra Bhushan Chaturvedi"
   ]
  },
  {
   "cell_type": "code",
   "execution_count": 1,
   "id": "ff07518a",
   "metadata": {},
   "outputs": [],
   "source": [
    "import pandas as pd"
   ]
  },
  {
   "cell_type": "code",
   "execution_count": 2,
   "id": "025ced98",
   "metadata": {},
   "outputs": [],
   "source": [
    "import matplotlib.pyplot as plt\n",
    "%matplotlib inline"
   ]
  },
  {
   "cell_type": "code",
   "execution_count": 3,
   "id": "cd4bb7c2",
   "metadata": {},
   "outputs": [],
   "source": [
    "import numpy as np"
   ]
  },
  {
   "cell_type": "code",
   "execution_count": 4,
   "id": "8ae1d7a1",
   "metadata": {},
   "outputs": [],
   "source": [
    "cust=pd.read_csv(\"C:\\\\Users\\\\PHANINDRA BHUSHAN\\\\Desktop\\\\project python\\\\Customer.csv\")"
   ]
  },
  {
   "cell_type": "code",
   "execution_count": 5,
   "id": "278f4acb",
   "metadata": {},
   "outputs": [],
   "source": [
    "prod=pd.read_csv(\"C:\\\\Users\\\\PHANINDRA BHUSHAN\\\\Desktop\\\\project python\\\\prod_cat_info.csv\")"
   ]
  },
  {
   "cell_type": "code",
   "execution_count": 6,
   "id": "833662f9",
   "metadata": {},
   "outputs": [],
   "source": [
    "trans=pd.read_csv(\"C:\\\\Users\\\\PHANINDRA BHUSHAN\\Desktop\\\\project python\\\\Transactions.csv\")"
   ]
  },
  {
   "cell_type": "code",
   "execution_count": 7,
   "id": "8a2556a5",
   "metadata": {
    "scrolled": true
   },
   "outputs": [
    {
     "data": {
      "text/html": [
       "<div>\n",
       "<style scoped>\n",
       "    .dataframe tbody tr th:only-of-type {\n",
       "        vertical-align: middle;\n",
       "    }\n",
       "\n",
       "    .dataframe tbody tr th {\n",
       "        vertical-align: top;\n",
       "    }\n",
       "\n",
       "    .dataframe thead th {\n",
       "        text-align: right;\n",
       "    }\n",
       "</style>\n",
       "<table border=\"1\" class=\"dataframe\">\n",
       "  <thead>\n",
       "    <tr style=\"text-align: right;\">\n",
       "      <th></th>\n",
       "      <th>customer_Id</th>\n",
       "      <th>DOB</th>\n",
       "      <th>Gender</th>\n",
       "      <th>city_code</th>\n",
       "    </tr>\n",
       "  </thead>\n",
       "  <tbody>\n",
       "    <tr>\n",
       "      <th>0</th>\n",
       "      <td>268408</td>\n",
       "      <td>02-01-1970</td>\n",
       "      <td>M</td>\n",
       "      <td>4.0</td>\n",
       "    </tr>\n",
       "  </tbody>\n",
       "</table>\n",
       "</div>"
      ],
      "text/plain": [
       "   customer_Id         DOB Gender  city_code\n",
       "0       268408  02-01-1970      M        4.0"
      ]
     },
     "execution_count": 7,
     "metadata": {},
     "output_type": "execute_result"
    }
   ],
   "source": [
    "cust.head(1)"
   ]
  },
  {
   "cell_type": "code",
   "execution_count": 8,
   "id": "75814e33",
   "metadata": {},
   "outputs": [
    {
     "data": {
      "text/html": [
       "<div>\n",
       "<style scoped>\n",
       "    .dataframe tbody tr th:only-of-type {\n",
       "        vertical-align: middle;\n",
       "    }\n",
       "\n",
       "    .dataframe tbody tr th {\n",
       "        vertical-align: top;\n",
       "    }\n",
       "\n",
       "    .dataframe thead th {\n",
       "        text-align: right;\n",
       "    }\n",
       "</style>\n",
       "<table border=\"1\" class=\"dataframe\">\n",
       "  <thead>\n",
       "    <tr style=\"text-align: right;\">\n",
       "      <th></th>\n",
       "      <th>prod_cat_code</th>\n",
       "      <th>prod_cat</th>\n",
       "      <th>prod_sub_cat_code</th>\n",
       "      <th>prod_subcat</th>\n",
       "    </tr>\n",
       "  </thead>\n",
       "  <tbody>\n",
       "    <tr>\n",
       "      <th>0</th>\n",
       "      <td>1</td>\n",
       "      <td>Clothing</td>\n",
       "      <td>4</td>\n",
       "      <td>Mens</td>\n",
       "    </tr>\n",
       "  </tbody>\n",
       "</table>\n",
       "</div>"
      ],
      "text/plain": [
       "   prod_cat_code  prod_cat  prod_sub_cat_code prod_subcat\n",
       "0              1  Clothing                  4        Mens"
      ]
     },
     "execution_count": 8,
     "metadata": {},
     "output_type": "execute_result"
    }
   ],
   "source": [
    "prod.head(1)"
   ]
  },
  {
   "cell_type": "code",
   "execution_count": 9,
   "id": "290ba080",
   "metadata": {},
   "outputs": [
    {
     "data": {
      "text/html": [
       "<div>\n",
       "<style scoped>\n",
       "    .dataframe tbody tr th:only-of-type {\n",
       "        vertical-align: middle;\n",
       "    }\n",
       "\n",
       "    .dataframe tbody tr th {\n",
       "        vertical-align: top;\n",
       "    }\n",
       "\n",
       "    .dataframe thead th {\n",
       "        text-align: right;\n",
       "    }\n",
       "</style>\n",
       "<table border=\"1\" class=\"dataframe\">\n",
       "  <thead>\n",
       "    <tr style=\"text-align: right;\">\n",
       "      <th></th>\n",
       "      <th>transaction_id</th>\n",
       "      <th>cust_id</th>\n",
       "      <th>tran_date</th>\n",
       "      <th>prod_subcat_code</th>\n",
       "      <th>prod_cat_code</th>\n",
       "      <th>Qty</th>\n",
       "      <th>Rate</th>\n",
       "      <th>Tax</th>\n",
       "      <th>total_amt</th>\n",
       "      <th>Store_type</th>\n",
       "    </tr>\n",
       "  </thead>\n",
       "  <tbody>\n",
       "    <tr>\n",
       "      <th>0</th>\n",
       "      <td>80712190438</td>\n",
       "      <td>270351</td>\n",
       "      <td>28-02-2014</td>\n",
       "      <td>1</td>\n",
       "      <td>1</td>\n",
       "      <td>-5</td>\n",
       "      <td>-772</td>\n",
       "      <td>405.3</td>\n",
       "      <td>-4265.3</td>\n",
       "      <td>e-Shop</td>\n",
       "    </tr>\n",
       "  </tbody>\n",
       "</table>\n",
       "</div>"
      ],
      "text/plain": [
       "   transaction_id  cust_id   tran_date  prod_subcat_code  prod_cat_code  Qty  \\\n",
       "0     80712190438   270351  28-02-2014                 1              1   -5   \n",
       "\n",
       "   Rate    Tax  total_amt Store_type  \n",
       "0  -772  405.3    -4265.3     e-Shop  "
      ]
     },
     "execution_count": 9,
     "metadata": {},
     "output_type": "execute_result"
    }
   ],
   "source": [
    "trans.head(1)"
   ]
  },
  {
   "cell_type": "code",
   "execution_count": 10,
   "id": "e652fda2",
   "metadata": {},
   "outputs": [],
   "source": [
    "cust.rename(columns={'customer_Id':'cust_id'},inplace=True)"
   ]
  },
  {
   "cell_type": "code",
   "execution_count": 11,
   "id": "5142370a",
   "metadata": {},
   "outputs": [
    {
     "data": {
      "text/html": [
       "<div>\n",
       "<style scoped>\n",
       "    .dataframe tbody tr th:only-of-type {\n",
       "        vertical-align: middle;\n",
       "    }\n",
       "\n",
       "    .dataframe tbody tr th {\n",
       "        vertical-align: top;\n",
       "    }\n",
       "\n",
       "    .dataframe thead th {\n",
       "        text-align: right;\n",
       "    }\n",
       "</style>\n",
       "<table border=\"1\" class=\"dataframe\">\n",
       "  <thead>\n",
       "    <tr style=\"text-align: right;\">\n",
       "      <th></th>\n",
       "      <th>cust_id</th>\n",
       "      <th>DOB</th>\n",
       "      <th>Gender</th>\n",
       "      <th>city_code</th>\n",
       "    </tr>\n",
       "  </thead>\n",
       "  <tbody>\n",
       "    <tr>\n",
       "      <th>0</th>\n",
       "      <td>268408</td>\n",
       "      <td>02-01-1970</td>\n",
       "      <td>M</td>\n",
       "      <td>4.0</td>\n",
       "    </tr>\n",
       "  </tbody>\n",
       "</table>\n",
       "</div>"
      ],
      "text/plain": [
       "   cust_id         DOB Gender  city_code\n",
       "0   268408  02-01-1970      M        4.0"
      ]
     },
     "execution_count": 11,
     "metadata": {},
     "output_type": "execute_result"
    }
   ],
   "source": [
    "cust.head(1)"
   ]
  },
  {
   "cell_type": "code",
   "execution_count": 12,
   "id": "9c96584f",
   "metadata": {},
   "outputs": [],
   "source": [
    "trans.rename(columns={'prod_subcat_code':'prod_sub_cat_code'},inplace=True)"
   ]
  },
  {
   "cell_type": "code",
   "execution_count": 13,
   "id": "93544ccc",
   "metadata": {},
   "outputs": [
    {
     "data": {
      "text/html": [
       "<div>\n",
       "<style scoped>\n",
       "    .dataframe tbody tr th:only-of-type {\n",
       "        vertical-align: middle;\n",
       "    }\n",
       "\n",
       "    .dataframe tbody tr th {\n",
       "        vertical-align: top;\n",
       "    }\n",
       "\n",
       "    .dataframe thead th {\n",
       "        text-align: right;\n",
       "    }\n",
       "</style>\n",
       "<table border=\"1\" class=\"dataframe\">\n",
       "  <thead>\n",
       "    <tr style=\"text-align: right;\">\n",
       "      <th></th>\n",
       "      <th>transaction_id</th>\n",
       "      <th>cust_id</th>\n",
       "      <th>tran_date</th>\n",
       "      <th>prod_sub_cat_code</th>\n",
       "      <th>prod_cat_code</th>\n",
       "      <th>Qty</th>\n",
       "      <th>Rate</th>\n",
       "      <th>Tax</th>\n",
       "      <th>total_amt</th>\n",
       "      <th>Store_type</th>\n",
       "    </tr>\n",
       "  </thead>\n",
       "  <tbody>\n",
       "    <tr>\n",
       "      <th>0</th>\n",
       "      <td>80712190438</td>\n",
       "      <td>270351</td>\n",
       "      <td>28-02-2014</td>\n",
       "      <td>1</td>\n",
       "      <td>1</td>\n",
       "      <td>-5</td>\n",
       "      <td>-772</td>\n",
       "      <td>405.3</td>\n",
       "      <td>-4265.3</td>\n",
       "      <td>e-Shop</td>\n",
       "    </tr>\n",
       "  </tbody>\n",
       "</table>\n",
       "</div>"
      ],
      "text/plain": [
       "   transaction_id  cust_id   tran_date  prod_sub_cat_code  prod_cat_code  Qty  \\\n",
       "0     80712190438   270351  28-02-2014                  1              1   -5   \n",
       "\n",
       "   Rate    Tax  total_amt Store_type  \n",
       "0  -772  405.3    -4265.3     e-Shop  "
      ]
     },
     "execution_count": 13,
     "metadata": {},
     "output_type": "execute_result"
    }
   ],
   "source": [
    "trans.head(1)"
   ]
  },
  {
   "cell_type": "markdown",
   "id": "3df847f7",
   "metadata": {},
   "source": [
    "1. Merge the datasets Customers, Product Hierarchy and Transactions as Customer_Final.\n",
    "Ensure to\n",
    "keep all customers who have done transactions with us and select the join type accordingly.\n"
   ]
  },
  {
   "cell_type": "code",
   "execution_count": 14,
   "id": "90a16735",
   "metadata": {},
   "outputs": [],
   "source": [
    "cust_new=pd.merge(trans,cust,on=\"cust_id\",how =\"inner\")"
   ]
  },
  {
   "cell_type": "code",
   "execution_count": 15,
   "id": "89e7d568",
   "metadata": {},
   "outputs": [],
   "source": [
    "cust_final=pd.merge(cust_new,prod,on=(\"prod_cat_code\",\"prod_sub_cat_code\"),how =\"inner\")"
   ]
  },
  {
   "cell_type": "code",
   "execution_count": 16,
   "id": "8289fa26",
   "metadata": {},
   "outputs": [
    {
     "data": {
      "text/plain": [
       "(23053, 15)"
      ]
     },
     "execution_count": 16,
     "metadata": {},
     "output_type": "execute_result"
    }
   ],
   "source": [
    "cust_final.shape"
   ]
  },
  {
   "cell_type": "code",
   "execution_count": 17,
   "id": "a4c73db6",
   "metadata": {},
   "outputs": [
    {
     "data": {
      "text/html": [
       "<div>\n",
       "<style scoped>\n",
       "    .dataframe tbody tr th:only-of-type {\n",
       "        vertical-align: middle;\n",
       "    }\n",
       "\n",
       "    .dataframe tbody tr th {\n",
       "        vertical-align: top;\n",
       "    }\n",
       "\n",
       "    .dataframe thead th {\n",
       "        text-align: right;\n",
       "    }\n",
       "</style>\n",
       "<table border=\"1\" class=\"dataframe\">\n",
       "  <thead>\n",
       "    <tr style=\"text-align: right;\">\n",
       "      <th></th>\n",
       "      <th>transaction_id</th>\n",
       "      <th>cust_id</th>\n",
       "      <th>tran_date</th>\n",
       "      <th>prod_sub_cat_code</th>\n",
       "      <th>prod_cat_code</th>\n",
       "      <th>Qty</th>\n",
       "      <th>Rate</th>\n",
       "      <th>Tax</th>\n",
       "      <th>total_amt</th>\n",
       "      <th>Store_type</th>\n",
       "      <th>DOB</th>\n",
       "      <th>Gender</th>\n",
       "      <th>city_code</th>\n",
       "      <th>prod_cat</th>\n",
       "      <th>prod_subcat</th>\n",
       "    </tr>\n",
       "  </thead>\n",
       "  <tbody>\n",
       "    <tr>\n",
       "      <th>0</th>\n",
       "      <td>80712190438</td>\n",
       "      <td>270351</td>\n",
       "      <td>28-02-2014</td>\n",
       "      <td>1</td>\n",
       "      <td>1</td>\n",
       "      <td>-5</td>\n",
       "      <td>-772</td>\n",
       "      <td>405.3</td>\n",
       "      <td>-4265.3</td>\n",
       "      <td>e-Shop</td>\n",
       "      <td>26-09-1981</td>\n",
       "      <td>M</td>\n",
       "      <td>5.0</td>\n",
       "      <td>Clothing</td>\n",
       "      <td>Women</td>\n",
       "    </tr>\n",
       "  </tbody>\n",
       "</table>\n",
       "</div>"
      ],
      "text/plain": [
       "   transaction_id  cust_id   tran_date  prod_sub_cat_code  prod_cat_code  Qty  \\\n",
       "0     80712190438   270351  28-02-2014                  1              1   -5   \n",
       "\n",
       "   Rate    Tax  total_amt Store_type         DOB Gender  city_code  prod_cat  \\\n",
       "0  -772  405.3    -4265.3     e-Shop  26-09-1981      M        5.0  Clothing   \n",
       "\n",
       "  prod_subcat  \n",
       "0       Women  "
      ]
     },
     "execution_count": 17,
     "metadata": {},
     "output_type": "execute_result"
    }
   ],
   "source": [
    "cust_final.head(1)"
   ]
  },
  {
   "cell_type": "code",
   "execution_count": 18,
   "id": "46290ef5",
   "metadata": {},
   "outputs": [
    {
     "data": {
      "text/plain": [
       "13"
      ]
     },
     "execution_count": 18,
     "metadata": {},
     "output_type": "execute_result"
    }
   ],
   "source": [
    "cust_final.duplicated().sum()"
   ]
  },
  {
   "cell_type": "code",
   "execution_count": 19,
   "id": "b449afe8",
   "metadata": {},
   "outputs": [],
   "source": [
    "cust_final.drop_duplicates(inplace=True)"
   ]
  },
  {
   "cell_type": "code",
   "execution_count": 20,
   "id": "1e862805",
   "metadata": {},
   "outputs": [
    {
     "data": {
      "text/plain": [
       "0"
      ]
     },
     "execution_count": 20,
     "metadata": {},
     "output_type": "execute_result"
    }
   ],
   "source": [
    "cust_final.duplicated().sum()"
   ]
  },
  {
   "cell_type": "markdown",
   "id": "8525bdf7",
   "metadata": {},
   "source": [
    "2. Prepare a summary report for the merged data set.\n"
   ]
  },
  {
   "cell_type": "markdown",
   "id": "2818dac1",
   "metadata": {},
   "source": [
    "2.a. Get the column names and their corresponding data types\n"
   ]
  },
  {
   "cell_type": "code",
   "execution_count": 21,
   "id": "961d9e3b",
   "metadata": {},
   "outputs": [
    {
     "data": {
      "text/plain": [
       "Index(['transaction_id', 'cust_id', 'tran_date', 'prod_sub_cat_code',\n",
       "       'prod_cat_code', 'Qty', 'Rate', 'Tax', 'total_amt', 'Store_type', 'DOB',\n",
       "       'Gender', 'city_code', 'prod_cat', 'prod_subcat'],\n",
       "      dtype='object')"
      ]
     },
     "execution_count": 21,
     "metadata": {},
     "output_type": "execute_result"
    }
   ],
   "source": [
    "#column names\n",
    "cust_final.columns"
   ]
  },
  {
   "cell_type": "code",
   "execution_count": 22,
   "id": "8064ead7",
   "metadata": {},
   "outputs": [
    {
     "data": {
      "text/plain": [
       "transaction_id         int64\n",
       "cust_id                int64\n",
       "tran_date             object\n",
       "prod_sub_cat_code      int64\n",
       "prod_cat_code          int64\n",
       "Qty                    int64\n",
       "Rate                   int64\n",
       "Tax                  float64\n",
       "total_amt            float64\n",
       "Store_type            object\n",
       "DOB                   object\n",
       "Gender                object\n",
       "city_code            float64\n",
       "prod_cat              object\n",
       "prod_subcat           object\n",
       "dtype: object"
      ]
     },
     "execution_count": 22,
     "metadata": {},
     "output_type": "execute_result"
    }
   ],
   "source": [
    "#datatype\n",
    "cust_final.dtypes"
   ]
  },
  {
   "cell_type": "markdown",
   "id": "e86cabd6",
   "metadata": {},
   "source": [
    "2.b. Top/Bottom 10 observations\n"
   ]
  },
  {
   "cell_type": "code",
   "execution_count": 23,
   "id": "7f13738c",
   "metadata": {},
   "outputs": [
    {
     "data": {
      "text/html": [
       "<div>\n",
       "<style scoped>\n",
       "    .dataframe tbody tr th:only-of-type {\n",
       "        vertical-align: middle;\n",
       "    }\n",
       "\n",
       "    .dataframe tbody tr th {\n",
       "        vertical-align: top;\n",
       "    }\n",
       "\n",
       "    .dataframe thead th {\n",
       "        text-align: right;\n",
       "    }\n",
       "</style>\n",
       "<table border=\"1\" class=\"dataframe\">\n",
       "  <thead>\n",
       "    <tr style=\"text-align: right;\">\n",
       "      <th></th>\n",
       "      <th>transaction_id</th>\n",
       "      <th>cust_id</th>\n",
       "      <th>tran_date</th>\n",
       "      <th>prod_sub_cat_code</th>\n",
       "      <th>prod_cat_code</th>\n",
       "      <th>Qty</th>\n",
       "      <th>Rate</th>\n",
       "      <th>Tax</th>\n",
       "      <th>total_amt</th>\n",
       "      <th>Store_type</th>\n",
       "      <th>DOB</th>\n",
       "      <th>Gender</th>\n",
       "      <th>city_code</th>\n",
       "      <th>prod_cat</th>\n",
       "      <th>prod_subcat</th>\n",
       "    </tr>\n",
       "  </thead>\n",
       "  <tbody>\n",
       "    <tr>\n",
       "      <th>0</th>\n",
       "      <td>80712190438</td>\n",
       "      <td>270351</td>\n",
       "      <td>28-02-2014</td>\n",
       "      <td>1</td>\n",
       "      <td>1</td>\n",
       "      <td>-5</td>\n",
       "      <td>-772</td>\n",
       "      <td>405.300</td>\n",
       "      <td>-4265.300</td>\n",
       "      <td>e-Shop</td>\n",
       "      <td>26-09-1981</td>\n",
       "      <td>M</td>\n",
       "      <td>5.0</td>\n",
       "      <td>Clothing</td>\n",
       "      <td>Women</td>\n",
       "    </tr>\n",
       "    <tr>\n",
       "      <th>1</th>\n",
       "      <td>80712190438</td>\n",
       "      <td>270351</td>\n",
       "      <td>20-02-2014</td>\n",
       "      <td>1</td>\n",
       "      <td>1</td>\n",
       "      <td>5</td>\n",
       "      <td>772</td>\n",
       "      <td>405.300</td>\n",
       "      <td>4265.300</td>\n",
       "      <td>e-Shop</td>\n",
       "      <td>26-09-1981</td>\n",
       "      <td>M</td>\n",
       "      <td>5.0</td>\n",
       "      <td>Clothing</td>\n",
       "      <td>Women</td>\n",
       "    </tr>\n",
       "    <tr>\n",
       "      <th>2</th>\n",
       "      <td>18505840838</td>\n",
       "      <td>271509</td>\n",
       "      <td>16-12-2013</td>\n",
       "      <td>1</td>\n",
       "      <td>1</td>\n",
       "      <td>3</td>\n",
       "      <td>1229</td>\n",
       "      <td>387.135</td>\n",
       "      <td>4074.135</td>\n",
       "      <td>Flagship store</td>\n",
       "      <td>08-06-1981</td>\n",
       "      <td>M</td>\n",
       "      <td>3.0</td>\n",
       "      <td>Clothing</td>\n",
       "      <td>Women</td>\n",
       "    </tr>\n",
       "    <tr>\n",
       "      <th>3</th>\n",
       "      <td>92814475704</td>\n",
       "      <td>267750</td>\n",
       "      <td>16-08-2013</td>\n",
       "      <td>1</td>\n",
       "      <td>1</td>\n",
       "      <td>-4</td>\n",
       "      <td>-284</td>\n",
       "      <td>119.280</td>\n",
       "      <td>-1255.280</td>\n",
       "      <td>Flagship store</td>\n",
       "      <td>13-10-1986</td>\n",
       "      <td>M</td>\n",
       "      <td>1.0</td>\n",
       "      <td>Clothing</td>\n",
       "      <td>Women</td>\n",
       "    </tr>\n",
       "    <tr>\n",
       "      <th>4</th>\n",
       "      <td>92814475704</td>\n",
       "      <td>267750</td>\n",
       "      <td>7/8/2013</td>\n",
       "      <td>1</td>\n",
       "      <td>1</td>\n",
       "      <td>4</td>\n",
       "      <td>284</td>\n",
       "      <td>119.280</td>\n",
       "      <td>1255.280</td>\n",
       "      <td>Flagship store</td>\n",
       "      <td>13-10-1986</td>\n",
       "      <td>M</td>\n",
       "      <td>1.0</td>\n",
       "      <td>Clothing</td>\n",
       "      <td>Women</td>\n",
       "    </tr>\n",
       "    <tr>\n",
       "      <th>5</th>\n",
       "      <td>4737317330</td>\n",
       "      <td>269345</td>\n",
       "      <td>29-07-2011</td>\n",
       "      <td>1</td>\n",
       "      <td>1</td>\n",
       "      <td>5</td>\n",
       "      <td>1141</td>\n",
       "      <td>599.025</td>\n",
       "      <td>6304.025</td>\n",
       "      <td>MBR</td>\n",
       "      <td>26-06-1970</td>\n",
       "      <td>F</td>\n",
       "      <td>10.0</td>\n",
       "      <td>Clothing</td>\n",
       "      <td>Women</td>\n",
       "    </tr>\n",
       "    <tr>\n",
       "      <th>6</th>\n",
       "      <td>44425889101</td>\n",
       "      <td>274987</td>\n",
       "      <td>18-03-2012</td>\n",
       "      <td>1</td>\n",
       "      <td>1</td>\n",
       "      <td>4</td>\n",
       "      <td>897</td>\n",
       "      <td>376.740</td>\n",
       "      <td>3964.740</td>\n",
       "      <td>Flagship store</td>\n",
       "      <td>08-10-1983</td>\n",
       "      <td>M</td>\n",
       "      <td>2.0</td>\n",
       "      <td>Clothing</td>\n",
       "      <td>Women</td>\n",
       "    </tr>\n",
       "    <tr>\n",
       "      <th>7</th>\n",
       "      <td>90501340928</td>\n",
       "      <td>271817</td>\n",
       "      <td>19-02-2012</td>\n",
       "      <td>1</td>\n",
       "      <td>1</td>\n",
       "      <td>1</td>\n",
       "      <td>1122</td>\n",
       "      <td>117.810</td>\n",
       "      <td>1239.810</td>\n",
       "      <td>TeleShop</td>\n",
       "      <td>24-12-1989</td>\n",
       "      <td>M</td>\n",
       "      <td>8.0</td>\n",
       "      <td>Clothing</td>\n",
       "      <td>Women</td>\n",
       "    </tr>\n",
       "    <tr>\n",
       "      <th>8</th>\n",
       "      <td>99335419136</td>\n",
       "      <td>268755</td>\n",
       "      <td>13-12-2012</td>\n",
       "      <td>1</td>\n",
       "      <td>1</td>\n",
       "      <td>3</td>\n",
       "      <td>1181</td>\n",
       "      <td>372.015</td>\n",
       "      <td>3915.015</td>\n",
       "      <td>e-Shop</td>\n",
       "      <td>15-07-1984</td>\n",
       "      <td>F</td>\n",
       "      <td>8.0</td>\n",
       "      <td>Clothing</td>\n",
       "      <td>Women</td>\n",
       "    </tr>\n",
       "    <tr>\n",
       "      <th>9</th>\n",
       "      <td>35030444164</td>\n",
       "      <td>268129</td>\n",
       "      <td>18-11-2011</td>\n",
       "      <td>1</td>\n",
       "      <td>1</td>\n",
       "      <td>5</td>\n",
       "      <td>1047</td>\n",
       "      <td>549.675</td>\n",
       "      <td>5784.675</td>\n",
       "      <td>MBR</td>\n",
       "      <td>07-08-1982</td>\n",
       "      <td>F</td>\n",
       "      <td>9.0</td>\n",
       "      <td>Clothing</td>\n",
       "      <td>Women</td>\n",
       "    </tr>\n",
       "  </tbody>\n",
       "</table>\n",
       "</div>"
      ],
      "text/plain": [
       "   transaction_id  cust_id   tran_date  prod_sub_cat_code  prod_cat_code  Qty  \\\n",
       "0     80712190438   270351  28-02-2014                  1              1   -5   \n",
       "1     80712190438   270351  20-02-2014                  1              1    5   \n",
       "2     18505840838   271509  16-12-2013                  1              1    3   \n",
       "3     92814475704   267750  16-08-2013                  1              1   -4   \n",
       "4     92814475704   267750    7/8/2013                  1              1    4   \n",
       "5      4737317330   269345  29-07-2011                  1              1    5   \n",
       "6     44425889101   274987  18-03-2012                  1              1    4   \n",
       "7     90501340928   271817  19-02-2012                  1              1    1   \n",
       "8     99335419136   268755  13-12-2012                  1              1    3   \n",
       "9     35030444164   268129  18-11-2011                  1              1    5   \n",
       "\n",
       "   Rate      Tax  total_amt      Store_type         DOB Gender  city_code  \\\n",
       "0  -772  405.300  -4265.300          e-Shop  26-09-1981      M        5.0   \n",
       "1   772  405.300   4265.300          e-Shop  26-09-1981      M        5.0   \n",
       "2  1229  387.135   4074.135  Flagship store  08-06-1981      M        3.0   \n",
       "3  -284  119.280  -1255.280  Flagship store  13-10-1986      M        1.0   \n",
       "4   284  119.280   1255.280  Flagship store  13-10-1986      M        1.0   \n",
       "5  1141  599.025   6304.025             MBR  26-06-1970      F       10.0   \n",
       "6   897  376.740   3964.740  Flagship store  08-10-1983      M        2.0   \n",
       "7  1122  117.810   1239.810        TeleShop  24-12-1989      M        8.0   \n",
       "8  1181  372.015   3915.015          e-Shop  15-07-1984      F        8.0   \n",
       "9  1047  549.675   5784.675             MBR  07-08-1982      F        9.0   \n",
       "\n",
       "   prod_cat prod_subcat  \n",
       "0  Clothing       Women  \n",
       "1  Clothing       Women  \n",
       "2  Clothing       Women  \n",
       "3  Clothing       Women  \n",
       "4  Clothing       Women  \n",
       "5  Clothing       Women  \n",
       "6  Clothing       Women  \n",
       "7  Clothing       Women  \n",
       "8  Clothing       Women  \n",
       "9  Clothing       Women  "
      ]
     },
     "execution_count": 23,
     "metadata": {},
     "output_type": "execute_result"
    }
   ],
   "source": [
    "#top 10\n",
    "cust_final.head(10)"
   ]
  },
  {
   "cell_type": "code",
   "execution_count": 24,
   "id": "85857426",
   "metadata": {},
   "outputs": [
    {
     "data": {
      "text/html": [
       "<div>\n",
       "<style scoped>\n",
       "    .dataframe tbody tr th:only-of-type {\n",
       "        vertical-align: middle;\n",
       "    }\n",
       "\n",
       "    .dataframe tbody tr th {\n",
       "        vertical-align: top;\n",
       "    }\n",
       "\n",
       "    .dataframe thead th {\n",
       "        text-align: right;\n",
       "    }\n",
       "</style>\n",
       "<table border=\"1\" class=\"dataframe\">\n",
       "  <thead>\n",
       "    <tr style=\"text-align: right;\">\n",
       "      <th></th>\n",
       "      <th>transaction_id</th>\n",
       "      <th>cust_id</th>\n",
       "      <th>tran_date</th>\n",
       "      <th>prod_sub_cat_code</th>\n",
       "      <th>prod_cat_code</th>\n",
       "      <th>Qty</th>\n",
       "      <th>Rate</th>\n",
       "      <th>Tax</th>\n",
       "      <th>total_amt</th>\n",
       "      <th>Store_type</th>\n",
       "      <th>DOB</th>\n",
       "      <th>Gender</th>\n",
       "      <th>city_code</th>\n",
       "      <th>prod_cat</th>\n",
       "      <th>prod_subcat</th>\n",
       "    </tr>\n",
       "  </thead>\n",
       "  <tbody>\n",
       "    <tr>\n",
       "      <th>23043</th>\n",
       "      <td>3387244829</td>\n",
       "      <td>269114</td>\n",
       "      <td>15-07-2011</td>\n",
       "      <td>4</td>\n",
       "      <td>4</td>\n",
       "      <td>1</td>\n",
       "      <td>388</td>\n",
       "      <td>40.740</td>\n",
       "      <td>428.740</td>\n",
       "      <td>e-Shop</td>\n",
       "      <td>22-01-1989</td>\n",
       "      <td>F</td>\n",
       "      <td>5.0</td>\n",
       "      <td>Bags</td>\n",
       "      <td>Women</td>\n",
       "    </tr>\n",
       "    <tr>\n",
       "      <th>23044</th>\n",
       "      <td>76906459516</td>\n",
       "      <td>267940</td>\n",
       "      <td>15-06-2011</td>\n",
       "      <td>4</td>\n",
       "      <td>4</td>\n",
       "      <td>2</td>\n",
       "      <td>1263</td>\n",
       "      <td>265.230</td>\n",
       "      <td>2791.230</td>\n",
       "      <td>Flagship store</td>\n",
       "      <td>09-06-1979</td>\n",
       "      <td>M</td>\n",
       "      <td>9.0</td>\n",
       "      <td>Bags</td>\n",
       "      <td>Women</td>\n",
       "    </tr>\n",
       "    <tr>\n",
       "      <th>23045</th>\n",
       "      <td>73549617163</td>\n",
       "      <td>271334</td>\n",
       "      <td>5/7/2011</td>\n",
       "      <td>4</td>\n",
       "      <td>4</td>\n",
       "      <td>5</td>\n",
       "      <td>263</td>\n",
       "      <td>138.075</td>\n",
       "      <td>1453.075</td>\n",
       "      <td>e-Shop</td>\n",
       "      <td>08-12-1983</td>\n",
       "      <td>F</td>\n",
       "      <td>10.0</td>\n",
       "      <td>Bags</td>\n",
       "      <td>Women</td>\n",
       "    </tr>\n",
       "    <tr>\n",
       "      <th>23046</th>\n",
       "      <td>75339646315</td>\n",
       "      <td>274827</td>\n",
       "      <td>2/5/2011</td>\n",
       "      <td>4</td>\n",
       "      <td>4</td>\n",
       "      <td>4</td>\n",
       "      <td>1381</td>\n",
       "      <td>580.020</td>\n",
       "      <td>6104.020</td>\n",
       "      <td>e-Shop</td>\n",
       "      <td>27-12-1988</td>\n",
       "      <td>F</td>\n",
       "      <td>8.0</td>\n",
       "      <td>Bags</td>\n",
       "      <td>Women</td>\n",
       "    </tr>\n",
       "    <tr>\n",
       "      <th>23047</th>\n",
       "      <td>6650926717</td>\n",
       "      <td>268110</td>\n",
       "      <td>5/4/2011</td>\n",
       "      <td>4</td>\n",
       "      <td>4</td>\n",
       "      <td>4</td>\n",
       "      <td>1036</td>\n",
       "      <td>435.120</td>\n",
       "      <td>4579.120</td>\n",
       "      <td>MBR</td>\n",
       "      <td>06-03-1976</td>\n",
       "      <td>M</td>\n",
       "      <td>2.0</td>\n",
       "      <td>Bags</td>\n",
       "      <td>Women</td>\n",
       "    </tr>\n",
       "    <tr>\n",
       "      <th>23048</th>\n",
       "      <td>7173864364</td>\n",
       "      <td>271157</td>\n",
       "      <td>9/4/2011</td>\n",
       "      <td>4</td>\n",
       "      <td>4</td>\n",
       "      <td>5</td>\n",
       "      <td>788</td>\n",
       "      <td>413.700</td>\n",
       "      <td>4353.700</td>\n",
       "      <td>Flagship store</td>\n",
       "      <td>15-10-1973</td>\n",
       "      <td>F</td>\n",
       "      <td>6.0</td>\n",
       "      <td>Bags</td>\n",
       "      <td>Women</td>\n",
       "    </tr>\n",
       "    <tr>\n",
       "      <th>23049</th>\n",
       "      <td>5618131425</td>\n",
       "      <td>272010</td>\n",
       "      <td>3/3/2011</td>\n",
       "      <td>4</td>\n",
       "      <td>4</td>\n",
       "      <td>2</td>\n",
       "      <td>1150</td>\n",
       "      <td>241.500</td>\n",
       "      <td>2541.500</td>\n",
       "      <td>MBR</td>\n",
       "      <td>22-12-1972</td>\n",
       "      <td>F</td>\n",
       "      <td>5.0</td>\n",
       "      <td>Bags</td>\n",
       "      <td>Women</td>\n",
       "    </tr>\n",
       "    <tr>\n",
       "      <th>23050</th>\n",
       "      <td>18727956164</td>\n",
       "      <td>267161</td>\n",
       "      <td>23-02-2011</td>\n",
       "      <td>4</td>\n",
       "      <td>4</td>\n",
       "      <td>5</td>\n",
       "      <td>668</td>\n",
       "      <td>350.700</td>\n",
       "      <td>3690.700</td>\n",
       "      <td>e-Shop</td>\n",
       "      <td>08-05-1981</td>\n",
       "      <td>M</td>\n",
       "      <td>9.0</td>\n",
       "      <td>Bags</td>\n",
       "      <td>Women</td>\n",
       "    </tr>\n",
       "    <tr>\n",
       "      <th>23051</th>\n",
       "      <td>60416814232</td>\n",
       "      <td>273281</td>\n",
       "      <td>18-02-2011</td>\n",
       "      <td>4</td>\n",
       "      <td>4</td>\n",
       "      <td>4</td>\n",
       "      <td>202</td>\n",
       "      <td>84.840</td>\n",
       "      <td>892.840</td>\n",
       "      <td>Flagship store</td>\n",
       "      <td>14-12-1988</td>\n",
       "      <td>F</td>\n",
       "      <td>9.0</td>\n",
       "      <td>Bags</td>\n",
       "      <td>Women</td>\n",
       "    </tr>\n",
       "    <tr>\n",
       "      <th>23052</th>\n",
       "      <td>83245680995</td>\n",
       "      <td>273723</td>\n",
       "      <td>26-01-2011</td>\n",
       "      <td>4</td>\n",
       "      <td>4</td>\n",
       "      <td>4</td>\n",
       "      <td>1477</td>\n",
       "      <td>620.340</td>\n",
       "      <td>6528.340</td>\n",
       "      <td>e-Shop</td>\n",
       "      <td>21-01-1984</td>\n",
       "      <td>F</td>\n",
       "      <td>4.0</td>\n",
       "      <td>Bags</td>\n",
       "      <td>Women</td>\n",
       "    </tr>\n",
       "  </tbody>\n",
       "</table>\n",
       "</div>"
      ],
      "text/plain": [
       "       transaction_id  cust_id   tran_date  prod_sub_cat_code  prod_cat_code  \\\n",
       "23043      3387244829   269114  15-07-2011                  4              4   \n",
       "23044     76906459516   267940  15-06-2011                  4              4   \n",
       "23045     73549617163   271334    5/7/2011                  4              4   \n",
       "23046     75339646315   274827    2/5/2011                  4              4   \n",
       "23047      6650926717   268110    5/4/2011                  4              4   \n",
       "23048      7173864364   271157    9/4/2011                  4              4   \n",
       "23049      5618131425   272010    3/3/2011                  4              4   \n",
       "23050     18727956164   267161  23-02-2011                  4              4   \n",
       "23051     60416814232   273281  18-02-2011                  4              4   \n",
       "23052     83245680995   273723  26-01-2011                  4              4   \n",
       "\n",
       "       Qty  Rate      Tax  total_amt      Store_type         DOB Gender  \\\n",
       "23043    1   388   40.740    428.740          e-Shop  22-01-1989      F   \n",
       "23044    2  1263  265.230   2791.230  Flagship store  09-06-1979      M   \n",
       "23045    5   263  138.075   1453.075          e-Shop  08-12-1983      F   \n",
       "23046    4  1381  580.020   6104.020          e-Shop  27-12-1988      F   \n",
       "23047    4  1036  435.120   4579.120             MBR  06-03-1976      M   \n",
       "23048    5   788  413.700   4353.700  Flagship store  15-10-1973      F   \n",
       "23049    2  1150  241.500   2541.500             MBR  22-12-1972      F   \n",
       "23050    5   668  350.700   3690.700          e-Shop  08-05-1981      M   \n",
       "23051    4   202   84.840    892.840  Flagship store  14-12-1988      F   \n",
       "23052    4  1477  620.340   6528.340          e-Shop  21-01-1984      F   \n",
       "\n",
       "       city_code prod_cat prod_subcat  \n",
       "23043        5.0     Bags       Women  \n",
       "23044        9.0     Bags       Women  \n",
       "23045       10.0     Bags       Women  \n",
       "23046        8.0     Bags       Women  \n",
       "23047        2.0     Bags       Women  \n",
       "23048        6.0     Bags       Women  \n",
       "23049        5.0     Bags       Women  \n",
       "23050        9.0     Bags       Women  \n",
       "23051        9.0     Bags       Women  \n",
       "23052        4.0     Bags       Women  "
      ]
     },
     "execution_count": 24,
     "metadata": {},
     "output_type": "execute_result"
    }
   ],
   "source": [
    "#bottom 10\n",
    "cust_final.tail(10)"
   ]
  },
  {
   "cell_type": "markdown",
   "id": "d73bde84",
   "metadata": {},
   "source": [
    "2.c. “Five-number summary” for continuous variables (min, Q1, median, Q3 and max)"
   ]
  },
  {
   "cell_type": "code",
   "execution_count": 25,
   "id": "118a7b92",
   "metadata": {},
   "outputs": [
    {
     "data": {
      "text/html": [
       "<div>\n",
       "<style scoped>\n",
       "    .dataframe tbody tr th:only-of-type {\n",
       "        vertical-align: middle;\n",
       "    }\n",
       "\n",
       "    .dataframe tbody tr th {\n",
       "        vertical-align: top;\n",
       "    }\n",
       "\n",
       "    .dataframe thead th {\n",
       "        text-align: right;\n",
       "    }\n",
       "</style>\n",
       "<table border=\"1\" class=\"dataframe\">\n",
       "  <thead>\n",
       "    <tr style=\"text-align: right;\">\n",
       "      <th></th>\n",
       "      <th>transaction_id</th>\n",
       "      <th>cust_id</th>\n",
       "      <th>prod_sub_cat_code</th>\n",
       "      <th>prod_cat_code</th>\n",
       "      <th>Qty</th>\n",
       "      <th>Rate</th>\n",
       "      <th>Tax</th>\n",
       "      <th>total_amt</th>\n",
       "      <th>city_code</th>\n",
       "    </tr>\n",
       "  </thead>\n",
       "  <tbody>\n",
       "    <tr>\n",
       "      <th>count</th>\n",
       "      <td>2.304000e+04</td>\n",
       "      <td>23040.000000</td>\n",
       "      <td>23040.000000</td>\n",
       "      <td>23040.000000</td>\n",
       "      <td>23040.000000</td>\n",
       "      <td>23040.000000</td>\n",
       "      <td>23040.000000</td>\n",
       "      <td>23040.000000</td>\n",
       "      <td>23032.000000</td>\n",
       "    </tr>\n",
       "    <tr>\n",
       "      <th>mean</th>\n",
       "      <td>5.006955e+10</td>\n",
       "      <td>271021.880252</td>\n",
       "      <td>6.148785</td>\n",
       "      <td>3.763498</td>\n",
       "      <td>2.435764</td>\n",
       "      <td>637.094965</td>\n",
       "      <td>248.677488</td>\n",
       "      <td>2109.865226</td>\n",
       "      <td>5.483067</td>\n",
       "    </tr>\n",
       "    <tr>\n",
       "      <th>std</th>\n",
       "      <td>2.898062e+10</td>\n",
       "      <td>2431.573668</td>\n",
       "      <td>3.726197</td>\n",
       "      <td>1.677091</td>\n",
       "      <td>2.264326</td>\n",
       "      <td>621.727374</td>\n",
       "      <td>187.188311</td>\n",
       "      <td>2505.610295</td>\n",
       "      <td>2.863331</td>\n",
       "    </tr>\n",
       "    <tr>\n",
       "      <th>min</th>\n",
       "      <td>3.268991e+06</td>\n",
       "      <td>266783.000000</td>\n",
       "      <td>1.000000</td>\n",
       "      <td>1.000000</td>\n",
       "      <td>-5.000000</td>\n",
       "      <td>-1499.000000</td>\n",
       "      <td>7.350000</td>\n",
       "      <td>-8270.925000</td>\n",
       "      <td>1.000000</td>\n",
       "    </tr>\n",
       "    <tr>\n",
       "      <th>25%</th>\n",
       "      <td>2.493315e+10</td>\n",
       "      <td>268935.000000</td>\n",
       "      <td>3.000000</td>\n",
       "      <td>2.000000</td>\n",
       "      <td>1.000000</td>\n",
       "      <td>312.000000</td>\n",
       "      <td>98.280000</td>\n",
       "      <td>762.450000</td>\n",
       "      <td>3.000000</td>\n",
       "    </tr>\n",
       "    <tr>\n",
       "      <th>50%</th>\n",
       "      <td>5.009188e+10</td>\n",
       "      <td>270980.500000</td>\n",
       "      <td>5.000000</td>\n",
       "      <td>4.000000</td>\n",
       "      <td>3.000000</td>\n",
       "      <td>710.000000</td>\n",
       "      <td>199.080000</td>\n",
       "      <td>1756.950000</td>\n",
       "      <td>5.000000</td>\n",
       "    </tr>\n",
       "    <tr>\n",
       "      <th>75%</th>\n",
       "      <td>7.532632e+10</td>\n",
       "      <td>273114.250000</td>\n",
       "      <td>10.000000</td>\n",
       "      <td>5.000000</td>\n",
       "      <td>4.000000</td>\n",
       "      <td>1109.000000</td>\n",
       "      <td>365.767500</td>\n",
       "      <td>3570.255000</td>\n",
       "      <td>8.000000</td>\n",
       "    </tr>\n",
       "    <tr>\n",
       "      <th>max</th>\n",
       "      <td>9.998755e+10</td>\n",
       "      <td>275265.000000</td>\n",
       "      <td>12.000000</td>\n",
       "      <td>6.000000</td>\n",
       "      <td>5.000000</td>\n",
       "      <td>1500.000000</td>\n",
       "      <td>787.500000</td>\n",
       "      <td>8287.500000</td>\n",
       "      <td>10.000000</td>\n",
       "    </tr>\n",
       "  </tbody>\n",
       "</table>\n",
       "</div>"
      ],
      "text/plain": [
       "       transaction_id        cust_id  prod_sub_cat_code  prod_cat_code  \\\n",
       "count    2.304000e+04   23040.000000       23040.000000   23040.000000   \n",
       "mean     5.006955e+10  271021.880252           6.148785       3.763498   \n",
       "std      2.898062e+10    2431.573668           3.726197       1.677091   \n",
       "min      3.268991e+06  266783.000000           1.000000       1.000000   \n",
       "25%      2.493315e+10  268935.000000           3.000000       2.000000   \n",
       "50%      5.009188e+10  270980.500000           5.000000       4.000000   \n",
       "75%      7.532632e+10  273114.250000          10.000000       5.000000   \n",
       "max      9.998755e+10  275265.000000          12.000000       6.000000   \n",
       "\n",
       "                Qty          Rate           Tax     total_amt     city_code  \n",
       "count  23040.000000  23040.000000  23040.000000  23040.000000  23032.000000  \n",
       "mean       2.435764    637.094965    248.677488   2109.865226      5.483067  \n",
       "std        2.264326    621.727374    187.188311   2505.610295      2.863331  \n",
       "min       -5.000000  -1499.000000      7.350000  -8270.925000      1.000000  \n",
       "25%        1.000000    312.000000     98.280000    762.450000      3.000000  \n",
       "50%        3.000000    710.000000    199.080000   1756.950000      5.000000  \n",
       "75%        4.000000   1109.000000    365.767500   3570.255000      8.000000  \n",
       "max        5.000000   1500.000000    787.500000   8287.500000     10.000000  "
      ]
     },
     "execution_count": 25,
     "metadata": {},
     "output_type": "execute_result"
    }
   ],
   "source": [
    "cust_final.describe()\n",
    "#25%=Q1\n",
    "#75%=Q3\n",
    "#50%=median"
   ]
  },
  {
   "cell_type": "code",
   "execution_count": 27,
   "id": "f5166434",
   "metadata": {},
   "outputs": [
    {
     "data": {
      "text/html": [
       "<div>\n",
       "<style scoped>\n",
       "    .dataframe tbody tr th:only-of-type {\n",
       "        vertical-align: middle;\n",
       "    }\n",
       "\n",
       "    .dataframe tbody tr th {\n",
       "        vertical-align: top;\n",
       "    }\n",
       "\n",
       "    .dataframe thead th {\n",
       "        text-align: right;\n",
       "    }\n",
       "</style>\n",
       "<table border=\"1\" class=\"dataframe\">\n",
       "  <thead>\n",
       "    <tr style=\"text-align: right;\">\n",
       "      <th></th>\n",
       "      <th>transaction_id</th>\n",
       "      <th>cust_id</th>\n",
       "      <th>prod_sub_cat_code</th>\n",
       "      <th>prod_cat_code</th>\n",
       "      <th>Qty</th>\n",
       "      <th>Rate</th>\n",
       "      <th>Tax</th>\n",
       "      <th>total_amt</th>\n",
       "      <th>city_code</th>\n",
       "    </tr>\n",
       "  </thead>\n",
       "  <tbody>\n",
       "    <tr>\n",
       "      <th>min</th>\n",
       "      <td>3.268991e+06</td>\n",
       "      <td>266783.00</td>\n",
       "      <td>1.0</td>\n",
       "      <td>1.0</td>\n",
       "      <td>-5.0</td>\n",
       "      <td>-1499.0</td>\n",
       "      <td>7.3500</td>\n",
       "      <td>-8270.925</td>\n",
       "      <td>1.0</td>\n",
       "    </tr>\n",
       "    <tr>\n",
       "      <th>25%</th>\n",
       "      <td>2.493315e+10</td>\n",
       "      <td>268935.00</td>\n",
       "      <td>3.0</td>\n",
       "      <td>2.0</td>\n",
       "      <td>1.0</td>\n",
       "      <td>312.0</td>\n",
       "      <td>98.2800</td>\n",
       "      <td>762.450</td>\n",
       "      <td>3.0</td>\n",
       "    </tr>\n",
       "    <tr>\n",
       "      <th>50%</th>\n",
       "      <td>5.009188e+10</td>\n",
       "      <td>270980.50</td>\n",
       "      <td>5.0</td>\n",
       "      <td>4.0</td>\n",
       "      <td>3.0</td>\n",
       "      <td>710.0</td>\n",
       "      <td>199.0800</td>\n",
       "      <td>1756.950</td>\n",
       "      <td>5.0</td>\n",
       "    </tr>\n",
       "    <tr>\n",
       "      <th>75%</th>\n",
       "      <td>7.532632e+10</td>\n",
       "      <td>273114.25</td>\n",
       "      <td>10.0</td>\n",
       "      <td>5.0</td>\n",
       "      <td>4.0</td>\n",
       "      <td>1109.0</td>\n",
       "      <td>365.7675</td>\n",
       "      <td>3570.255</td>\n",
       "      <td>8.0</td>\n",
       "    </tr>\n",
       "    <tr>\n",
       "      <th>max</th>\n",
       "      <td>9.998755e+10</td>\n",
       "      <td>275265.00</td>\n",
       "      <td>12.0</td>\n",
       "      <td>6.0</td>\n",
       "      <td>5.0</td>\n",
       "      <td>1500.0</td>\n",
       "      <td>787.5000</td>\n",
       "      <td>8287.500</td>\n",
       "      <td>10.0</td>\n",
       "    </tr>\n",
       "  </tbody>\n",
       "</table>\n",
       "</div>"
      ],
      "text/plain": [
       "     transaction_id    cust_id  prod_sub_cat_code  prod_cat_code  Qty    Rate  \\\n",
       "min    3.268991e+06  266783.00                1.0            1.0 -5.0 -1499.0   \n",
       "25%    2.493315e+10  268935.00                3.0            2.0  1.0   312.0   \n",
       "50%    5.009188e+10  270980.50                5.0            4.0  3.0   710.0   \n",
       "75%    7.532632e+10  273114.25               10.0            5.0  4.0  1109.0   \n",
       "max    9.998755e+10  275265.00               12.0            6.0  5.0  1500.0   \n",
       "\n",
       "          Tax  total_amt  city_code  \n",
       "min    7.3500  -8270.925        1.0  \n",
       "25%   98.2800    762.450        3.0  \n",
       "50%  199.0800   1756.950        5.0  \n",
       "75%  365.7675   3570.255        8.0  \n",
       "max  787.5000   8287.500       10.0  "
      ]
     },
     "execution_count": 27,
     "metadata": {},
     "output_type": "execute_result"
    }
   ],
   "source": [
    "cust_final.describe().loc['min':'max']  #added after submission on portal"
   ]
  },
  {
   "cell_type": "markdown",
   "id": "ebc3a68c",
   "metadata": {},
   "source": [
    "2.d. Frequency tables for all the categorical variables"
   ]
  },
  {
   "cell_type": "code",
   "execution_count": 28,
   "id": "5c5bf801",
   "metadata": {
    "scrolled": false
   },
   "outputs": [
    {
     "data": {
      "text/plain": [
       "transaction_id         int64\n",
       "cust_id                int64\n",
       "tran_date             object\n",
       "prod_sub_cat_code      int64\n",
       "prod_cat_code          int64\n",
       "Qty                    int64\n",
       "Rate                   int64\n",
       "Tax                  float64\n",
       "total_amt            float64\n",
       "Store_type            object\n",
       "DOB                   object\n",
       "Gender                object\n",
       "city_code            float64\n",
       "prod_cat              object\n",
       "prod_subcat           object\n",
       "dtype: object"
      ]
     },
     "execution_count": 28,
     "metadata": {},
     "output_type": "execute_result"
    }
   ],
   "source": [
    "cust_final.dtypes"
   ]
  },
  {
   "cell_type": "code",
   "execution_count": 33,
   "id": "a7644bc2",
   "metadata": {},
   "outputs": [],
   "source": [
    "#changing data type of \"DOB\"\n",
    "cust_final[\"DOB\"] = pd.to_datetime(cust_final[\"DOB\"])"
   ]
  },
  {
   "cell_type": "code",
   "execution_count": 34,
   "id": "a45c2970",
   "metadata": {},
   "outputs": [
    {
     "data": {
      "text/plain": [
       "transaction_id                int64\n",
       "cust_id                       int64\n",
       "tran_date            datetime64[ns]\n",
       "prod_sub_cat_code             int64\n",
       "prod_cat_code                 int64\n",
       "Qty                           int64\n",
       "Rate                          int64\n",
       "Tax                         float64\n",
       "total_amt                   float64\n",
       "Store_type                   object\n",
       "DOB                  datetime64[ns]\n",
       "Gender                       object\n",
       "city_code                   float64\n",
       "prod_cat                     object\n",
       "prod_subcat                  object\n",
       "dtype: object"
      ]
     },
     "execution_count": 34,
     "metadata": {},
     "output_type": "execute_result"
    }
   ],
   "source": [
    "cust_final.dtypes"
   ]
  },
  {
   "cell_type": "code",
   "execution_count": 35,
   "id": "e0502f4a",
   "metadata": {},
   "outputs": [],
   "source": [
    "#changing data type of \"tran_date\"\n",
    "cust_final[\"tran_date\"] = pd.to_datetime(cust_final[\"tran_date\"])"
   ]
  },
  {
   "cell_type": "code",
   "execution_count": 37,
   "id": "f2a76a4d",
   "metadata": {},
   "outputs": [
    {
     "data": {
      "text/html": [
       "<div>\n",
       "<style scoped>\n",
       "    .dataframe tbody tr th:only-of-type {\n",
       "        vertical-align: middle;\n",
       "    }\n",
       "\n",
       "    .dataframe tbody tr th {\n",
       "        vertical-align: top;\n",
       "    }\n",
       "\n",
       "    .dataframe thead th {\n",
       "        text-align: right;\n",
       "    }\n",
       "</style>\n",
       "<table border=\"1\" class=\"dataframe\">\n",
       "  <thead>\n",
       "    <tr style=\"text-align: right;\">\n",
       "      <th></th>\n",
       "      <th>Store_type</th>\n",
       "      <th>Gender</th>\n",
       "      <th>prod_cat</th>\n",
       "      <th>prod_subcat</th>\n",
       "    </tr>\n",
       "  </thead>\n",
       "  <tbody>\n",
       "    <tr>\n",
       "      <th>count</th>\n",
       "      <td>23040</td>\n",
       "      <td>23031</td>\n",
       "      <td>23040</td>\n",
       "      <td>23040</td>\n",
       "    </tr>\n",
       "    <tr>\n",
       "      <th>unique</th>\n",
       "      <td>4</td>\n",
       "      <td>2</td>\n",
       "      <td>6</td>\n",
       "      <td>18</td>\n",
       "    </tr>\n",
       "    <tr>\n",
       "      <th>top</th>\n",
       "      <td>e-Shop</td>\n",
       "      <td>M</td>\n",
       "      <td>Books</td>\n",
       "      <td>Women</td>\n",
       "    </tr>\n",
       "    <tr>\n",
       "      <th>freq</th>\n",
       "      <td>9304</td>\n",
       "      <td>11804</td>\n",
       "      <td>6066</td>\n",
       "      <td>3046</td>\n",
       "    </tr>\n",
       "  </tbody>\n",
       "</table>\n",
       "</div>"
      ],
      "text/plain": [
       "       Store_type Gender prod_cat prod_subcat\n",
       "count       23040  23031    23040       23040\n",
       "unique          4      2        6          18\n",
       "top        e-Shop      M    Books       Women\n",
       "freq         9304  11804     6066        3046"
      ]
     },
     "execution_count": 37,
     "metadata": {},
     "output_type": "execute_result"
    }
   ],
   "source": [
    "x=(cust_final.select_dtypes(include=['object'])) #object data type is categorical \n",
    "x.describe()"
   ]
  },
  {
   "cell_type": "markdown",
   "id": "6795a86a",
   "metadata": {},
   "source": [
    "3. Generate histograms for all continuous variables and frequency bars for categorical variables"
   ]
  },
  {
   "cell_type": "code",
   "execution_count": 38,
   "id": "959c74b4",
   "metadata": {
    "scrolled": true
   },
   "outputs": [
    {
     "data": {
      "text/plain": [
       "Index(['transaction_id', 'cust_id', 'prod_sub_cat_code', 'prod_cat_code',\n",
       "       'Qty', 'Rate', 'Tax', 'total_amt', 'city_code'],\n",
       "      dtype='object')"
      ]
     },
     "execution_count": 38,
     "metadata": {},
     "output_type": "execute_result"
    }
   ],
   "source": [
    "#continous_variable=\n",
    "(cust_final.select_dtypes(include=['number'])).columns"
   ]
  },
  {
   "cell_type": "code",
   "execution_count": 39,
   "id": "68db276d",
   "metadata": {},
   "outputs": [
    {
     "data": {
      "text/plain": [
       "Index(['Store_type', 'Gender', 'prod_cat', 'prod_subcat'], dtype='object')"
      ]
     },
     "execution_count": 39,
     "metadata": {},
     "output_type": "execute_result"
    }
   ],
   "source": [
    "#categorical variable=\n",
    "(cust_final.select_dtypes(include=['object'])).columns"
   ]
  },
  {
   "cell_type": "code",
   "execution_count": 40,
   "id": "bf50e5d5",
   "metadata": {},
   "outputs": [],
   "source": [
    "conti_variable = cust_final.loc[:,['prod_sub_cat_code','prod_cat_code', 'Qty', 'Rate', 'Tax', 'total_amt']]\n",
    "#excluding transaction_id and cust_id"
   ]
  },
  {
   "cell_type": "code",
   "execution_count": 41,
   "id": "3716459d",
   "metadata": {
    "scrolled": true
   },
   "outputs": [
    {
     "data": {
      "text/plain": [
       "Index(['prod_sub_cat_code', 'prod_cat_code', 'Qty', 'Rate', 'Tax',\n",
       "       'total_amt'],\n",
       "      dtype='object')"
      ]
     },
     "execution_count": 41,
     "metadata": {},
     "output_type": "execute_result"
    }
   ],
   "source": [
    "conti_variable.columns"
   ]
  },
  {
   "cell_type": "code",
   "execution_count": 42,
   "id": "491dd964",
   "metadata": {
    "scrolled": false
   },
   "outputs": [
    {
     "data": {
      "image/png": "[encoded data removed]",
      "text/plain": [
       "<Figure size 432x288 with 1 Axes>"
      ]
     },
     "metadata": {
      "needs_background": "light"
     },
     "output_type": "display_data"
    },
    {
     "data": {
      "image/png": "[encoded data removed]",
      "text/plain": [
       "<Figure size 432x288 with 1 Axes>"
      ]
     },
     "metadata": {
      "needs_background": "light"
     },
     "output_type": "display_data"
    },
    {
     "data": {
      "image/png": "[encoded data removed]",
      "text/plain": [
       "<Figure size 432x288 with 1 Axes>"
      ]
     },
     "metadata": {
      "needs_background": "light"
     },
     "output_type": "display_data"
    },
    {
     "data": {
      "image/png": "[encoded data removed]",
      "text/plain": [
       "<Figure size 432x288 with 1 Axes>"
      ]
     },
     "metadata": {
      "needs_background": "light"
     },
     "output_type": "display_data"
    },
    {
     "data": {
      "image/png": "[encoded data removed]",
      "text/plain": [
       "<Figure size 432x288 with 1 Axes>"
      ]
     },
     "metadata": {
      "needs_background": "light"
     },
     "output_type": "display_data"
    },
    {
     "data": {
      "image/png": "[encoded data removed]",
      "text/plain": [
       "<Figure size 432x288 with 1 Axes>"
      ]
     },
     "metadata": {
      "needs_background": "light"
     },
     "output_type": "display_data"
    }
   ],
   "source": [
    "for var in conti_variable.columns:\n",
    "    conti_variable[var].plot(kind='hist')\n",
    "    plt.title(var)\n",
    "    plt.show()"
   ]
  },
  {
   "cell_type": "code",
   "execution_count": 43,
   "id": "64686209",
   "metadata": {},
   "outputs": [],
   "source": [
    "category_variable = cust_final.loc[:,cust_final.dtypes=='object']"
   ]
  },
  {
   "cell_type": "code",
   "execution_count": 44,
   "id": "6750867e",
   "metadata": {},
   "outputs": [
    {
     "data": {
      "text/plain": [
       "Index(['Store_type', 'Gender', 'prod_cat', 'prod_subcat'], dtype='object')"
      ]
     },
     "execution_count": 44,
     "metadata": {},
     "output_type": "execute_result"
    }
   ],
   "source": [
    "category_variable.columns"
   ]
  },
  {
   "cell_type": "code",
   "execution_count": 45,
   "id": "906a4419",
   "metadata": {},
   "outputs": [
    {
     "data": {
      "image/png": "[encoded data removed]",
      "text/plain": [
       "<Figure size 432x288 with 1 Axes>"
      ]
     },
     "metadata": {
      "needs_background": "light"
     },
     "output_type": "display_data"
    }
   ],
   "source": [
    "cust_final['Gender'].value_counts().plot(kind='bar',color=\"pink\");"
   ]
  },
  {
   "cell_type": "code",
   "execution_count": 46,
   "id": "4e24e1c0",
   "metadata": {},
   "outputs": [
    {
     "data": {
      "image/png": "[encoded data removed]",
      "text/plain": [
       "<Figure size 432x288 with 1 Axes>"
      ]
     },
     "metadata": {
      "needs_background": "light"
     },
     "output_type": "display_data"
    }
   ],
   "source": [
    "cust_final['Store_type'].value_counts().plot(kind='bar');"
   ]
  },
  {
   "cell_type": "code",
   "execution_count": 47,
   "id": "d98c8adb",
   "metadata": {},
   "outputs": [
    {
     "data": {
      "image/png": "[encoded data removed]",
      "text/plain": [
       "<Figure size 432x288 with 1 Axes>"
      ]
     },
     "metadata": {
      "needs_background": "light"
     },
     "output_type": "display_data"
    }
   ],
   "source": [
    "cust_final['prod_cat'].value_counts().plot(kind='bar',color=\"purple\");"
   ]
  },
  {
   "cell_type": "code",
   "execution_count": 48,
   "id": "cafe5424",
   "metadata": {},
   "outputs": [
    {
     "data": {
      "image/png": "[encoded data removed]",
      "text/plain": [
       "<Figure size 432x288 with 1 Axes>"
      ]
     },
     "metadata": {
      "needs_background": "light"
     },
     "output_type": "display_data"
    }
   ],
   "source": [
    "cust_final['prod_subcat'].value_counts().plot(kind='bar');"
   ]
  },
  {
   "cell_type": "markdown",
   "id": "134f3b16",
   "metadata": {},
   "source": [
    "4. Calculate the following information using the merged dataset :\n"
   ]
  },
  {
   "cell_type": "markdown",
   "id": "dc8b43f0",
   "metadata": {},
   "source": [
    "4.a. Time period of the available transaction data"
   ]
  },
  {
   "cell_type": "code",
   "execution_count": 49,
   "id": "eb646447",
   "metadata": {},
   "outputs": [],
   "source": [
    "Start_date = cust_final[\"tran_date\"].min()"
   ]
  },
  {
   "cell_type": "code",
   "execution_count": 50,
   "id": "89b59585",
   "metadata": {},
   "outputs": [],
   "source": [
    "End_date = cust_final[\"tran_date\"].max()"
   ]
  },
  {
   "cell_type": "code",
   "execution_count": 51,
   "id": "1f805417",
   "metadata": {},
   "outputs": [
    {
     "data": {
      "text/plain": [
       "Timestamp('2014-12-02 00:00:00')"
      ]
     },
     "execution_count": 51,
     "metadata": {},
     "output_type": "execute_result"
    }
   ],
   "source": [
    "End_date"
   ]
  },
  {
   "cell_type": "code",
   "execution_count": 52,
   "id": "e83c274d",
   "metadata": {},
   "outputs": [
    {
     "data": {
      "text/plain": [
       "Timestamp('2011-01-02 00:00:00')"
      ]
     },
     "execution_count": 52,
     "metadata": {},
     "output_type": "execute_result"
    }
   ],
   "source": [
    "Start_date"
   ]
  },
  {
   "cell_type": "code",
   "execution_count": 53,
   "id": "8563ebd5",
   "metadata": {},
   "outputs": [],
   "source": [
    "duration=End_date-Start_date"
   ]
  },
  {
   "cell_type": "code",
   "execution_count": 54,
   "id": "4616f5ff",
   "metadata": {},
   "outputs": [
    {
     "data": {
      "text/plain": [
       "Timedelta('1430 days 00:00:00')"
      ]
     },
     "execution_count": 54,
     "metadata": {},
     "output_type": "execute_result"
    }
   ],
   "source": [
    "duration"
   ]
  },
  {
   "cell_type": "markdown",
   "id": "d3453be1",
   "metadata": {},
   "source": [
    "#Time period of available transaction data\n",
    "startdate=02/01/2011\n",
    "endDate=02/12/2014\n",
    "thus duration is 1430 days"
   ]
  },
  {
   "cell_type": "markdown",
   "id": "ac92b3e8",
   "metadata": {},
   "source": [
    "4.b. Count of transactions where the total amount of transaction was negative\n"
   ]
  },
  {
   "cell_type": "code",
   "execution_count": 55,
   "id": "bd7a8735",
   "metadata": {},
   "outputs": [
    {
     "data": {
      "text/plain": [
       "2164"
      ]
     },
     "execution_count": 55,
     "metadata": {},
     "output_type": "execute_result"
    }
   ],
   "source": [
    "cust_final.loc[cust_final[\"total_amt\"] < 0,\"transaction_id\"].count()"
   ]
  },
  {
   "cell_type": "markdown",
   "id": "6f190d84",
   "metadata": {},
   "source": [
    "5. Analyze which product categories are more popular among females vs male customers."
   ]
  },
  {
   "cell_type": "code",
   "execution_count": 56,
   "id": "5dfc7a36",
   "metadata": {},
   "outputs": [],
   "source": [
    "Popular_products = cust_final.groupby([\"Gender\",\"prod_cat\"])[[\"Qty\"]].sum()"
   ]
  },
  {
   "cell_type": "code",
   "execution_count": 60,
   "id": "4bc85660",
   "metadata": {
    "scrolled": false
   },
   "outputs": [
    {
     "data": {
      "text/html": [
       "<div>\n",
       "<style scoped>\n",
       "    .dataframe tbody tr th:only-of-type {\n",
       "        vertical-align: middle;\n",
       "    }\n",
       "\n",
       "    .dataframe tbody tr th {\n",
       "        vertical-align: top;\n",
       "    }\n",
       "\n",
       "    .dataframe thead th {\n",
       "        text-align: right;\n",
       "    }\n",
       "</style>\n",
       "<table border=\"1\" class=\"dataframe\">\n",
       "  <thead>\n",
       "    <tr style=\"text-align: right;\">\n",
       "      <th></th>\n",
       "      <th></th>\n",
       "      <th>Qty</th>\n",
       "    </tr>\n",
       "    <tr>\n",
       "      <th>Gender</th>\n",
       "      <th>prod_cat</th>\n",
       "      <th></th>\n",
       "    </tr>\n",
       "  </thead>\n",
       "  <tbody>\n",
       "    <tr>\n",
       "      <th rowspan=\"6\" valign=\"top\">F</th>\n",
       "      <th>Bags</th>\n",
       "      <td>2364</td>\n",
       "    </tr>\n",
       "    <tr>\n",
       "      <th>Books</th>\n",
       "      <td>7080</td>\n",
       "    </tr>\n",
       "    <tr>\n",
       "      <th>Clothing</th>\n",
       "      <td>3425</td>\n",
       "    </tr>\n",
       "    <tr>\n",
       "      <th>Electronics</th>\n",
       "      <td>5832</td>\n",
       "    </tr>\n",
       "    <tr>\n",
       "      <th>Footwear</th>\n",
       "      <td>3721</td>\n",
       "    </tr>\n",
       "    <tr>\n",
       "      <th>Home and kitchen</th>\n",
       "      <td>4898</td>\n",
       "    </tr>\n",
       "    <tr>\n",
       "      <th rowspan=\"6\" valign=\"top\">M</th>\n",
       "      <th>Bags</th>\n",
       "      <td>2346</td>\n",
       "    </tr>\n",
       "    <tr>\n",
       "      <th>Books</th>\n",
       "      <td>7587</td>\n",
       "    </tr>\n",
       "    <tr>\n",
       "      <th>Clothing</th>\n",
       "      <td>3748</td>\n",
       "    </tr>\n",
       "    <tr>\n",
       "      <th>Electronics</th>\n",
       "      <td>6486</td>\n",
       "    </tr>\n",
       "    <tr>\n",
       "      <th>Footwear</th>\n",
       "      <td>3561</td>\n",
       "    </tr>\n",
       "    <tr>\n",
       "      <th>Home and kitchen</th>\n",
       "      <td>5051</td>\n",
       "    </tr>\n",
       "  </tbody>\n",
       "</table>\n",
       "</div>"
      ],
      "text/plain": [
       "                          Qty\n",
       "Gender prod_cat              \n",
       "F      Bags              2364\n",
       "       Books             7080\n",
       "       Clothing          3425\n",
       "       Electronics       5832\n",
       "       Footwear          3721\n",
       "       Home and kitchen  4898\n",
       "M      Bags              2346\n",
       "       Books             7587\n",
       "       Clothing          3748\n",
       "       Electronics       6486\n",
       "       Footwear          3561\n",
       "       Home and kitchen  5051"
      ]
     },
     "execution_count": 60,
     "metadata": {},
     "output_type": "execute_result"
    }
   ],
   "source": [
    "Popular_products"
   ]
  },
  {
   "cell_type": "code",
   "execution_count": 61,
   "id": "a5c39253",
   "metadata": {},
   "outputs": [
    {
     "data": {
      "text/plain": [
       "<AxesSubplot:xlabel='Gender,prod_cat'>"
      ]
     },
     "execution_count": 61,
     "metadata": {},
     "output_type": "execute_result"
    },
    {
     "data": {
      "image/png": "[encoded data removed]",
      "text/plain": [
       "<Figure size 720x576 with 1 Axes>"
      ]
     },
     "metadata": {
      "needs_background": "light"
     },
     "output_type": "display_data"
    }
   ],
   "source": [
    "(Popular_products.sort_values(by=[\"prod_cat\"])).plot(kind=\"bar\",color=(\"yellow\"),figsize=(10,8))"
   ]
  },
  {
   "cell_type": "markdown",
   "id": "3b61bb01",
   "metadata": {},
   "source": [
    "#popular products in men are\n",
    "Books\n",
    "Clothing\n",
    "Electronics\n",
    "Home and Kitchen\n",
    "#popular products in women are\n",
    "Bags\n",
    "Footwear"
   ]
  },
  {
   "cell_type": "markdown",
   "id": "1d524d12",
   "metadata": {},
   "source": [
    "6. Which City code has the maximum customers and what was the percentage of customers from that city?"
   ]
  },
  {
   "cell_type": "code",
   "execution_count": 71,
   "id": "081150bf",
   "metadata": {},
   "outputs": [
    {
     "data": {
      "text/plain": [
       "city_code\n",
       "4.0     2422\n",
       "3.0     2410\n",
       "5.0     2357\n",
       "7.0     2356\n",
       "10.0    2333\n",
       "8.0     2328\n",
       "2.0     2268\n",
       "1.0     2255\n",
       "9.0     2176\n",
       "6.0     2127\n",
       "Name: cust_id, dtype: int64"
      ]
     },
     "execution_count": 71,
     "metadata": {},
     "output_type": "execute_result"
    }
   ],
   "source": [
    "cty_max = cust_final.groupby([\"city_code\"])[\"cust_id\"].count().sort_values(ascending = False)\n",
    "cty_max"
   ]
  },
  {
   "cell_type": "code",
   "execution_count": 72,
   "id": "096703de",
   "metadata": {},
   "outputs": [
    {
     "data": {
      "text/plain": [
       "Text(0, 0.5, 'Count of customer Id')"
      ]
     },
     "execution_count": 72,
     "metadata": {},
     "output_type": "execute_result"
    },
    {
     "data": {
      "image/png": "[encoded data removed]",
      "text/plain": [
       "<Figure size 720x576 with 1 Axes>"
      ]
     },
     "metadata": {
      "needs_background": "light"
     },
     "output_type": "display_data"
    }
   ],
   "source": [
    "cty_max.plot(kind=\"bar\",color=\"green\",figsize=(10,8))\n",
    "plt.title(\"Customer count as per city code\")\n",
    "plt.xlabel(\"city code\")\n",
    "plt.ylabel(\"Count of customer Id\")"
   ]
  },
  {
   "cell_type": "code",
   "execution_count": 73,
   "id": "49e17024",
   "metadata": {},
   "outputs": [
    {
     "data": {
      "text/plain": [
       "10.52"
      ]
     },
     "execution_count": 73,
     "metadata": {},
     "output_type": "execute_result"
    }
   ],
   "source": [
    "round((cty_max[4.0]/cty_max.sum())*100,2)"
   ]
  },
  {
   "cell_type": "markdown",
   "id": "f3cc4d51",
   "metadata": {},
   "source": [
    "# 10.52% customer are from city code 4"
   ]
  },
  {
   "cell_type": "markdown",
   "id": "48aac8dc",
   "metadata": {},
   "source": [
    "7. Which store type sells the maximum products by value and by quantity?\n"
   ]
  },
  {
   "cell_type": "code",
   "execution_count": 74,
   "id": "6b28e571",
   "metadata": {},
   "outputs": [],
   "source": [
    "store_max_quantity=cust_final.groupby([\"Store_type\"])[\"Qty\"].sum()"
   ]
  },
  {
   "cell_type": "code",
   "execution_count": 75,
   "id": "3de61af8",
   "metadata": {},
   "outputs": [
    {
     "data": {
      "text/plain": [
       "Store_type\n",
       "Flagship store    11142\n",
       "MBR               11195\n",
       "TeleShop          10993\n",
       "e-Shop            22790\n",
       "Name: Qty, dtype: int64"
      ]
     },
     "execution_count": 75,
     "metadata": {},
     "output_type": "execute_result"
    }
   ],
   "source": [
    "store_max_quantity"
   ]
  },
  {
   "cell_type": "code",
   "execution_count": 76,
   "id": "baa77e15",
   "metadata": {},
   "outputs": [
    {
     "data": {
      "text/plain": [
       "Text(0, 0.5, 'QUANTITY')"
      ]
     },
     "execution_count": 76,
     "metadata": {},
     "output_type": "execute_result"
    },
    {
     "data": {
      "image/png": "[encoded data removed]",
      "text/plain": [
       "<Figure size 720x576 with 1 Axes>"
      ]
     },
     "metadata": {
      "needs_background": "light"
     },
     "output_type": "display_data"
    }
   ],
   "source": [
    "store_max_quantity.plot(kind=\"bar\",color=\"yellow\",figsize=(10,8))\n",
    "plt.title(\"Store type sells maximum product\")\n",
    "plt.xlabel(\"store type\")\n",
    "plt.ylabel(\"QUANTITY\")"
   ]
  },
  {
   "cell_type": "code",
   "execution_count": 77,
   "id": "44ba666e",
   "metadata": {},
   "outputs": [],
   "source": [
    "store_max_value=cust_final.groupby([\"Store_type\"])[\"total_amt\"].sum()"
   ]
  },
  {
   "cell_type": "code",
   "execution_count": 78,
   "id": "26b24638",
   "metadata": {},
   "outputs": [
    {
     "data": {
      "text/plain": [
       "Store_type\n",
       "Flagship store    9.721597e+06\n",
       "MBR               9.674941e+06\n",
       "TeleShop          9.372134e+06\n",
       "e-Shop            1.984262e+07\n",
       "Name: total_amt, dtype: float64"
      ]
     },
     "execution_count": 78,
     "metadata": {},
     "output_type": "execute_result"
    }
   ],
   "source": [
    "store_max_value"
   ]
  },
  {
   "cell_type": "code",
   "execution_count": 79,
   "id": "9f5b2274",
   "metadata": {},
   "outputs": [
    {
     "data": {
      "text/plain": [
       "Text(0, 0.5, 'Total Amount')"
      ]
     },
     "execution_count": 79,
     "metadata": {},
     "output_type": "execute_result"
    },
    {
     "data": {
      "image/png": "[encoded data removed]",
      "text/plain": [
       "<Figure size 720x576 with 1 Axes>"
      ]
     },
     "metadata": {
      "needs_background": "light"
     },
     "output_type": "display_data"
    }
   ],
   "source": [
    "store_max_value.plot(kind=\"bar\",color=\"orange\",figsize=(10,8))\n",
    "plt.title(\"Store type sells Generates more value\\Revenue\")\n",
    "plt.xlabel(\"store type\")\n",
    "plt.ylabel(\"Total Amount\")"
   ]
  },
  {
   "cell_type": "markdown",
   "id": "61097309",
   "metadata": {},
   "source": [
    "#e-shop sells maximum product by quantity as well value"
   ]
  },
  {
   "cell_type": "markdown",
   "id": "4ef5475f",
   "metadata": {},
   "source": [
    "8. What was the total amount earned from the \"Electronics\" and \"Clothing\" categories from\n",
    "Flagship Stores?\n"
   ]
  },
  {
   "cell_type": "code",
   "execution_count": 80,
   "id": "2b15e1b5",
   "metadata": {},
   "outputs": [],
   "source": [
    "flagship_amt = cust_final.groupby([\"Store_type\",\"prod_cat\"])[[\"total_amt\"]].sum()"
   ]
  },
  {
   "cell_type": "code",
   "execution_count": 81,
   "id": "ecbf8fa2",
   "metadata": {
    "scrolled": false
   },
   "outputs": [
    {
     "data": {
      "text/html": [
       "<div>\n",
       "<style scoped>\n",
       "    .dataframe tbody tr th:only-of-type {\n",
       "        vertical-align: middle;\n",
       "    }\n",
       "\n",
       "    .dataframe tbody tr th {\n",
       "        vertical-align: top;\n",
       "    }\n",
       "\n",
       "    .dataframe thead th {\n",
       "        text-align: right;\n",
       "    }\n",
       "</style>\n",
       "<table border=\"1\" class=\"dataframe\">\n",
       "  <thead>\n",
       "    <tr style=\"text-align: right;\">\n",
       "      <th></th>\n",
       "      <th></th>\n",
       "      <th>total_amt</th>\n",
       "    </tr>\n",
       "    <tr>\n",
       "      <th>Store_type</th>\n",
       "      <th>prod_cat</th>\n",
       "      <th></th>\n",
       "    </tr>\n",
       "  </thead>\n",
       "  <tbody>\n",
       "    <tr>\n",
       "      <th rowspan=\"6\" valign=\"top\">Flagship store</th>\n",
       "      <th>Bags</th>\n",
       "      <td>870548.835</td>\n",
       "    </tr>\n",
       "    <tr>\n",
       "      <th>Books</th>\n",
       "      <td>2493677.810</td>\n",
       "    </tr>\n",
       "    <tr>\n",
       "      <th>Clothing</th>\n",
       "      <td>1194423.230</td>\n",
       "    </tr>\n",
       "    <tr>\n",
       "      <th>Electronics</th>\n",
       "      <td>2215136.040</td>\n",
       "    </tr>\n",
       "    <tr>\n",
       "      <th>Footwear</th>\n",
       "      <td>1234806.560</td>\n",
       "    </tr>\n",
       "    <tr>\n",
       "      <th>Home and kitchen</th>\n",
       "      <td>1713004.150</td>\n",
       "    </tr>\n",
       "    <tr>\n",
       "      <th rowspan=\"6\" valign=\"top\">MBR</th>\n",
       "      <th>Bags</th>\n",
       "      <td>848678.675</td>\n",
       "    </tr>\n",
       "    <tr>\n",
       "      <th>Books</th>\n",
       "      <td>2496039.195</td>\n",
       "    </tr>\n",
       "    <tr>\n",
       "      <th>Clothing</th>\n",
       "      <td>1287686.335</td>\n",
       "    </tr>\n",
       "    <tr>\n",
       "      <th>Electronics</th>\n",
       "      <td>2107969.825</td>\n",
       "    </tr>\n",
       "    <tr>\n",
       "      <th>Footwear</th>\n",
       "      <td>1112163.715</td>\n",
       "    </tr>\n",
       "    <tr>\n",
       "      <th>Home and kitchen</th>\n",
       "      <td>1822403.570</td>\n",
       "    </tr>\n",
       "    <tr>\n",
       "      <th rowspan=\"6\" valign=\"top\">TeleShop</th>\n",
       "      <th>Bags</th>\n",
       "      <td>789181.055</td>\n",
       "    </tr>\n",
       "    <tr>\n",
       "      <th>Books</th>\n",
       "      <td>2545714.470</td>\n",
       "    </tr>\n",
       "    <tr>\n",
       "      <th>Clothing</th>\n",
       "      <td>1241834.360</td>\n",
       "    </tr>\n",
       "    <tr>\n",
       "      <th>Electronics</th>\n",
       "      <td>1978457.195</td>\n",
       "    </tr>\n",
       "    <tr>\n",
       "      <th>Footwear</th>\n",
       "      <td>1235719.290</td>\n",
       "    </tr>\n",
       "    <tr>\n",
       "      <th>Home and kitchen</th>\n",
       "      <td>1581227.375</td>\n",
       "    </tr>\n",
       "    <tr>\n",
       "      <th rowspan=\"6\" valign=\"top\">e-Shop</th>\n",
       "      <th>Bags</th>\n",
       "      <td>1617933.265</td>\n",
       "    </tr>\n",
       "    <tr>\n",
       "      <th>Books</th>\n",
       "      <td>5297161.155</td>\n",
       "    </tr>\n",
       "    <tr>\n",
       "      <th>Clothing</th>\n",
       "      <td>2527193.565</td>\n",
       "    </tr>\n",
       "    <tr>\n",
       "      <th>Electronics</th>\n",
       "      <td>4429142.770</td>\n",
       "    </tr>\n",
       "    <tr>\n",
       "      <th>Footwear</th>\n",
       "      <td>2643215.250</td>\n",
       "    </tr>\n",
       "    <tr>\n",
       "      <th>Home and kitchen</th>\n",
       "      <td>3327977.120</td>\n",
       "    </tr>\n",
       "  </tbody>\n",
       "</table>\n",
       "</div>"
      ],
      "text/plain": [
       "                                   total_amt\n",
       "Store_type     prod_cat                     \n",
       "Flagship store Bags               870548.835\n",
       "               Books             2493677.810\n",
       "               Clothing          1194423.230\n",
       "               Electronics       2215136.040\n",
       "               Footwear          1234806.560\n",
       "               Home and kitchen  1713004.150\n",
       "MBR            Bags               848678.675\n",
       "               Books             2496039.195\n",
       "               Clothing          1287686.335\n",
       "               Electronics       2107969.825\n",
       "               Footwear          1112163.715\n",
       "               Home and kitchen  1822403.570\n",
       "TeleShop       Bags               789181.055\n",
       "               Books             2545714.470\n",
       "               Clothing          1241834.360\n",
       "               Electronics       1978457.195\n",
       "               Footwear          1235719.290\n",
       "               Home and kitchen  1581227.375\n",
       "e-Shop         Bags              1617933.265\n",
       "               Books             5297161.155\n",
       "               Clothing          2527193.565\n",
       "               Electronics       4429142.770\n",
       "               Footwear          2643215.250\n",
       "               Home and kitchen  3327977.120"
      ]
     },
     "execution_count": 81,
     "metadata": {},
     "output_type": "execute_result"
    }
   ],
   "source": [
    "flagship_amt"
   ]
  },
  {
   "cell_type": "code",
   "execution_count": 82,
   "id": "bdc9e684",
   "metadata": {},
   "outputs": [
    {
     "data": {
      "text/html": [
       "<div>\n",
       "<style scoped>\n",
       "    .dataframe tbody tr th:only-of-type {\n",
       "        vertical-align: middle;\n",
       "    }\n",
       "\n",
       "    .dataframe tbody tr th {\n",
       "        vertical-align: top;\n",
       "    }\n",
       "\n",
       "    .dataframe thead th {\n",
       "        text-align: right;\n",
       "    }\n",
       "</style>\n",
       "<table border=\"1\" class=\"dataframe\">\n",
       "  <thead>\n",
       "    <tr style=\"text-align: right;\">\n",
       "      <th>Store_type</th>\n",
       "      <th>Flagship store</th>\n",
       "      <th>MBR</th>\n",
       "      <th>TeleShop</th>\n",
       "      <th>e-Shop</th>\n",
       "    </tr>\n",
       "    <tr>\n",
       "      <th>prod_cat</th>\n",
       "      <th></th>\n",
       "      <th></th>\n",
       "      <th></th>\n",
       "      <th></th>\n",
       "    </tr>\n",
       "  </thead>\n",
       "  <tbody>\n",
       "    <tr>\n",
       "      <th>Bags</th>\n",
       "      <td>870548.84</td>\n",
       "      <td>848678.68</td>\n",
       "      <td>789181.06</td>\n",
       "      <td>1617933.26</td>\n",
       "    </tr>\n",
       "    <tr>\n",
       "      <th>Books</th>\n",
       "      <td>2493677.81</td>\n",
       "      <td>2496039.19</td>\n",
       "      <td>2545714.47</td>\n",
       "      <td>5297161.16</td>\n",
       "    </tr>\n",
       "    <tr>\n",
       "      <th>Clothing</th>\n",
       "      <td>1194423.23</td>\n",
       "      <td>1287686.34</td>\n",
       "      <td>1241834.36</td>\n",
       "      <td>2527193.56</td>\n",
       "    </tr>\n",
       "    <tr>\n",
       "      <th>Electronics</th>\n",
       "      <td>2215136.04</td>\n",
       "      <td>2107969.83</td>\n",
       "      <td>1978457.20</td>\n",
       "      <td>4429142.77</td>\n",
       "    </tr>\n",
       "    <tr>\n",
       "      <th>Footwear</th>\n",
       "      <td>1234806.56</td>\n",
       "      <td>1112163.72</td>\n",
       "      <td>1235719.29</td>\n",
       "      <td>2643215.25</td>\n",
       "    </tr>\n",
       "    <tr>\n",
       "      <th>Home and kitchen</th>\n",
       "      <td>1713004.15</td>\n",
       "      <td>1822403.57</td>\n",
       "      <td>1581227.38</td>\n",
       "      <td>3327977.12</td>\n",
       "    </tr>\n",
       "  </tbody>\n",
       "</table>\n",
       "</div>"
      ],
      "text/plain": [
       "Store_type        Flagship store         MBR    TeleShop      e-Shop\n",
       "prod_cat                                                            \n",
       "Bags                   870548.84   848678.68   789181.06  1617933.26\n",
       "Books                 2493677.81  2496039.19  2545714.47  5297161.16\n",
       "Clothing              1194423.23  1287686.34  1241834.36  2527193.56\n",
       "Electronics           2215136.04  2107969.83  1978457.20  4429142.77\n",
       "Footwear              1234806.56  1112163.72  1235719.29  2643215.25\n",
       "Home and kitchen      1713004.15  1822403.57  1581227.38  3327977.12"
      ]
     },
     "execution_count": 82,
     "metadata": {},
     "output_type": "execute_result"
    }
   ],
   "source": [
    "flag_Store_group = round(cust_final.pivot_table(index = \"prod_cat\", columns = \"Store_type\", values = \"total_amt\",  aggfunc = \"sum\"),2)\n",
    "flag_Store_group"
   ]
  },
  {
   "cell_type": "code",
   "execution_count": 83,
   "id": "28138d31",
   "metadata": {},
   "outputs": [
    {
     "data": {
      "text/plain": [
       "3409559.27"
      ]
     },
     "execution_count": 83,
     "metadata": {},
     "output_type": "execute_result"
    }
   ],
   "source": [
    "Total_amt = flag_Store_group.loc[[\"Clothing\",\"Electronics\"],\"Flagship store\"].sum()\n",
    "Total_amt"
   ]
  },
  {
   "cell_type": "markdown",
   "id": "cf6bd404",
   "metadata": {},
   "source": [
    "9. What was the total amount earned from \"Male\" customers under the \"Electronics\" category?"
   ]
  },
  {
   "cell_type": "code",
   "execution_count": 84,
   "id": "73b73422",
   "metadata": {
    "scrolled": true
   },
   "outputs": [
    {
     "data": {
      "text/html": [
       "<div>\n",
       "<style scoped>\n",
       "    .dataframe tbody tr th:only-of-type {\n",
       "        vertical-align: middle;\n",
       "    }\n",
       "\n",
       "    .dataframe tbody tr th {\n",
       "        vertical-align: top;\n",
       "    }\n",
       "\n",
       "    .dataframe thead th {\n",
       "        text-align: right;\n",
       "    }\n",
       "</style>\n",
       "<table border=\"1\" class=\"dataframe\">\n",
       "  <thead>\n",
       "    <tr style=\"text-align: right;\">\n",
       "      <th>Gender</th>\n",
       "      <th>F</th>\n",
       "      <th>M</th>\n",
       "    </tr>\n",
       "    <tr>\n",
       "      <th>prod_cat</th>\n",
       "      <th></th>\n",
       "      <th></th>\n",
       "    </tr>\n",
       "  </thead>\n",
       "  <tbody>\n",
       "    <tr>\n",
       "      <th>Bags</th>\n",
       "      <td>2079618.84</td>\n",
       "      <td>2046722.99</td>\n",
       "    </tr>\n",
       "    <tr>\n",
       "      <th>Books</th>\n",
       "      <td>6174590.82</td>\n",
       "      <td>6645972.78</td>\n",
       "    </tr>\n",
       "    <tr>\n",
       "      <th>Clothing</th>\n",
       "      <td>3026750.80</td>\n",
       "      <td>3224079.50</td>\n",
       "    </tr>\n",
       "    <tr>\n",
       "      <th>Electronics</th>\n",
       "      <td>5019354.21</td>\n",
       "      <td>5711351.62</td>\n",
       "    </tr>\n",
       "    <tr>\n",
       "      <th>Footwear</th>\n",
       "      <td>3203155.22</td>\n",
       "      <td>3020200.36</td>\n",
       "    </tr>\n",
       "    <tr>\n",
       "      <th>Home and kitchen</th>\n",
       "      <td>4133702.24</td>\n",
       "      <td>4305169.50</td>\n",
       "    </tr>\n",
       "  </tbody>\n",
       "</table>\n",
       "</div>"
      ],
      "text/plain": [
       "Gender                     F           M\n",
       "prod_cat                                \n",
       "Bags              2079618.84  2046722.99\n",
       "Books             6174590.82  6645972.78\n",
       "Clothing          3026750.80  3224079.50\n",
       "Electronics       5019354.21  5711351.62\n",
       "Footwear          3203155.22  3020200.36\n",
       "Home and kitchen  4133702.24  4305169.50"
      ]
     },
     "execution_count": 84,
     "metadata": {},
     "output_type": "execute_result"
    }
   ],
   "source": [
    "gender_earn = round(cust_final.pivot_table(index = \"prod_cat\", columns = \"Gender\", values = \"total_amt\",  aggfunc = \"sum\"),2)\n",
    "gender_earn"
   ]
  },
  {
   "cell_type": "code",
   "execution_count": 85,
   "id": "93a48f0d",
   "metadata": {},
   "outputs": [
    {
     "data": {
      "text/plain": [
       "Text(0, 0.5, 'Total Amount(in multiple 10^6)')"
      ]
     },
     "execution_count": 85,
     "metadata": {},
     "output_type": "execute_result"
    },
    {
     "data": {
      "image/png": "[encoded data removed]",
      "text/plain": [
       "<Figure size 720x576 with 1 Axes>"
      ]
     },
     "metadata": {
      "needs_background": "light"
     },
     "output_type": "display_data"
    }
   ],
   "source": [
    "gender_earn.plot(kind=\"bar\",color=(\"orange\",\"green\"),figsize=(10,8))\n",
    "plt.title(\"Amount earned gender wise ,product category wise\")\n",
    "plt.xlabel(\"Product category\")\n",
    "plt.ylabel(\"Total Amount(in multiple 10^6)\")"
   ]
  },
  {
   "cell_type": "code",
   "execution_count": 86,
   "id": "0a5039c8",
   "metadata": {},
   "outputs": [
    {
     "data": {
      "text/plain": [
       "5711351.62"
      ]
     },
     "execution_count": 86,
     "metadata": {},
     "output_type": "execute_result"
    }
   ],
   "source": [
    "Male_earn = gender_earn.loc[\"Electronics\",\"M\"].sum()\n",
    "Male_earn"
   ]
  },
  {
   "cell_type": "markdown",
   "id": "a0999484",
   "metadata": {},
   "source": [
    "10. How many customers have more than 10 unique transactions, after removing all\n",
    "transactions which have any negative amounts?\n"
   ]
  },
  {
   "cell_type": "code",
   "execution_count": 87,
   "id": "b44dd1e9",
   "metadata": {},
   "outputs": [
    {
     "data": {
      "text/html": [
       "<div>\n",
       "<style scoped>\n",
       "    .dataframe tbody tr th:only-of-type {\n",
       "        vertical-align: middle;\n",
       "    }\n",
       "\n",
       "    .dataframe tbody tr th {\n",
       "        vertical-align: top;\n",
       "    }\n",
       "\n",
       "    .dataframe thead th {\n",
       "        text-align: right;\n",
       "    }\n",
       "</style>\n",
       "<table border=\"1\" class=\"dataframe\">\n",
       "  <thead>\n",
       "    <tr style=\"text-align: right;\">\n",
       "      <th></th>\n",
       "      <th>transaction_id</th>\n",
       "      <th>cust_id</th>\n",
       "      <th>tran_date</th>\n",
       "      <th>prod_sub_cat_code</th>\n",
       "      <th>prod_cat_code</th>\n",
       "      <th>Qty</th>\n",
       "      <th>Rate</th>\n",
       "      <th>Tax</th>\n",
       "      <th>total_amt</th>\n",
       "      <th>Store_type</th>\n",
       "      <th>DOB</th>\n",
       "      <th>Gender</th>\n",
       "      <th>city_code</th>\n",
       "      <th>prod_cat</th>\n",
       "      <th>prod_subcat</th>\n",
       "    </tr>\n",
       "  </thead>\n",
       "  <tbody>\n",
       "    <tr>\n",
       "      <th>1</th>\n",
       "      <td>80712190438</td>\n",
       "      <td>270351</td>\n",
       "      <td>2014-02-20</td>\n",
       "      <td>1</td>\n",
       "      <td>1</td>\n",
       "      <td>5</td>\n",
       "      <td>772</td>\n",
       "      <td>405.300</td>\n",
       "      <td>4265.300</td>\n",
       "      <td>e-Shop</td>\n",
       "      <td>1981-09-26</td>\n",
       "      <td>M</td>\n",
       "      <td>5.0</td>\n",
       "      <td>Clothing</td>\n",
       "      <td>Women</td>\n",
       "    </tr>\n",
       "    <tr>\n",
       "      <th>2</th>\n",
       "      <td>18505840838</td>\n",
       "      <td>271509</td>\n",
       "      <td>2013-12-16</td>\n",
       "      <td>1</td>\n",
       "      <td>1</td>\n",
       "      <td>3</td>\n",
       "      <td>1229</td>\n",
       "      <td>387.135</td>\n",
       "      <td>4074.135</td>\n",
       "      <td>Flagship store</td>\n",
       "      <td>1981-06-08</td>\n",
       "      <td>M</td>\n",
       "      <td>3.0</td>\n",
       "      <td>Clothing</td>\n",
       "      <td>Women</td>\n",
       "    </tr>\n",
       "    <tr>\n",
       "      <th>4</th>\n",
       "      <td>92814475704</td>\n",
       "      <td>267750</td>\n",
       "      <td>2013-07-08</td>\n",
       "      <td>1</td>\n",
       "      <td>1</td>\n",
       "      <td>4</td>\n",
       "      <td>284</td>\n",
       "      <td>119.280</td>\n",
       "      <td>1255.280</td>\n",
       "      <td>Flagship store</td>\n",
       "      <td>1986-10-13</td>\n",
       "      <td>M</td>\n",
       "      <td>1.0</td>\n",
       "      <td>Clothing</td>\n",
       "      <td>Women</td>\n",
       "    </tr>\n",
       "    <tr>\n",
       "      <th>5</th>\n",
       "      <td>4737317330</td>\n",
       "      <td>269345</td>\n",
       "      <td>2011-07-29</td>\n",
       "      <td>1</td>\n",
       "      <td>1</td>\n",
       "      <td>5</td>\n",
       "      <td>1141</td>\n",
       "      <td>599.025</td>\n",
       "      <td>6304.025</td>\n",
       "      <td>MBR</td>\n",
       "      <td>1970-06-26</td>\n",
       "      <td>F</td>\n",
       "      <td>10.0</td>\n",
       "      <td>Clothing</td>\n",
       "      <td>Women</td>\n",
       "    </tr>\n",
       "    <tr>\n",
       "      <th>6</th>\n",
       "      <td>44425889101</td>\n",
       "      <td>274987</td>\n",
       "      <td>2012-03-18</td>\n",
       "      <td>1</td>\n",
       "      <td>1</td>\n",
       "      <td>4</td>\n",
       "      <td>897</td>\n",
       "      <td>376.740</td>\n",
       "      <td>3964.740</td>\n",
       "      <td>Flagship store</td>\n",
       "      <td>1983-10-08</td>\n",
       "      <td>M</td>\n",
       "      <td>2.0</td>\n",
       "      <td>Clothing</td>\n",
       "      <td>Women</td>\n",
       "    </tr>\n",
       "    <tr>\n",
       "      <th>...</th>\n",
       "      <td>...</td>\n",
       "      <td>...</td>\n",
       "      <td>...</td>\n",
       "      <td>...</td>\n",
       "      <td>...</td>\n",
       "      <td>...</td>\n",
       "      <td>...</td>\n",
       "      <td>...</td>\n",
       "      <td>...</td>\n",
       "      <td>...</td>\n",
       "      <td>...</td>\n",
       "      <td>...</td>\n",
       "      <td>...</td>\n",
       "      <td>...</td>\n",
       "      <td>...</td>\n",
       "    </tr>\n",
       "    <tr>\n",
       "      <th>23048</th>\n",
       "      <td>7173864364</td>\n",
       "      <td>271157</td>\n",
       "      <td>2011-09-04</td>\n",
       "      <td>4</td>\n",
       "      <td>4</td>\n",
       "      <td>5</td>\n",
       "      <td>788</td>\n",
       "      <td>413.700</td>\n",
       "      <td>4353.700</td>\n",
       "      <td>Flagship store</td>\n",
       "      <td>1973-10-15</td>\n",
       "      <td>F</td>\n",
       "      <td>6.0</td>\n",
       "      <td>Bags</td>\n",
       "      <td>Women</td>\n",
       "    </tr>\n",
       "    <tr>\n",
       "      <th>23049</th>\n",
       "      <td>5618131425</td>\n",
       "      <td>272010</td>\n",
       "      <td>2011-03-03</td>\n",
       "      <td>4</td>\n",
       "      <td>4</td>\n",
       "      <td>2</td>\n",
       "      <td>1150</td>\n",
       "      <td>241.500</td>\n",
       "      <td>2541.500</td>\n",
       "      <td>MBR</td>\n",
       "      <td>1972-12-22</td>\n",
       "      <td>F</td>\n",
       "      <td>5.0</td>\n",
       "      <td>Bags</td>\n",
       "      <td>Women</td>\n",
       "    </tr>\n",
       "    <tr>\n",
       "      <th>23050</th>\n",
       "      <td>18727956164</td>\n",
       "      <td>267161</td>\n",
       "      <td>2011-02-23</td>\n",
       "      <td>4</td>\n",
       "      <td>4</td>\n",
       "      <td>5</td>\n",
       "      <td>668</td>\n",
       "      <td>350.700</td>\n",
       "      <td>3690.700</td>\n",
       "      <td>e-Shop</td>\n",
       "      <td>1981-05-08</td>\n",
       "      <td>M</td>\n",
       "      <td>9.0</td>\n",
       "      <td>Bags</td>\n",
       "      <td>Women</td>\n",
       "    </tr>\n",
       "    <tr>\n",
       "      <th>23051</th>\n",
       "      <td>60416814232</td>\n",
       "      <td>273281</td>\n",
       "      <td>2011-02-18</td>\n",
       "      <td>4</td>\n",
       "      <td>4</td>\n",
       "      <td>4</td>\n",
       "      <td>202</td>\n",
       "      <td>84.840</td>\n",
       "      <td>892.840</td>\n",
       "      <td>Flagship store</td>\n",
       "      <td>1988-12-14</td>\n",
       "      <td>F</td>\n",
       "      <td>9.0</td>\n",
       "      <td>Bags</td>\n",
       "      <td>Women</td>\n",
       "    </tr>\n",
       "    <tr>\n",
       "      <th>23052</th>\n",
       "      <td>83245680995</td>\n",
       "      <td>273723</td>\n",
       "      <td>2011-01-26</td>\n",
       "      <td>4</td>\n",
       "      <td>4</td>\n",
       "      <td>4</td>\n",
       "      <td>1477</td>\n",
       "      <td>620.340</td>\n",
       "      <td>6528.340</td>\n",
       "      <td>e-Shop</td>\n",
       "      <td>1984-01-21</td>\n",
       "      <td>F</td>\n",
       "      <td>4.0</td>\n",
       "      <td>Bags</td>\n",
       "      <td>Women</td>\n",
       "    </tr>\n",
       "  </tbody>\n",
       "</table>\n",
       "<p>20876 rows × 15 columns</p>\n",
       "</div>"
      ],
      "text/plain": [
       "       transaction_id  cust_id  tran_date  prod_sub_cat_code  prod_cat_code  \\\n",
       "1         80712190438   270351 2014-02-20                  1              1   \n",
       "2         18505840838   271509 2013-12-16                  1              1   \n",
       "4         92814475704   267750 2013-07-08                  1              1   \n",
       "5          4737317330   269345 2011-07-29                  1              1   \n",
       "6         44425889101   274987 2012-03-18                  1              1   \n",
       "...               ...      ...        ...                ...            ...   \n",
       "23048      7173864364   271157 2011-09-04                  4              4   \n",
       "23049      5618131425   272010 2011-03-03                  4              4   \n",
       "23050     18727956164   267161 2011-02-23                  4              4   \n",
       "23051     60416814232   273281 2011-02-18                  4              4   \n",
       "23052     83245680995   273723 2011-01-26                  4              4   \n",
       "\n",
       "       Qty  Rate      Tax  total_amt      Store_type        DOB Gender  \\\n",
       "1        5   772  405.300   4265.300          e-Shop 1981-09-26      M   \n",
       "2        3  1229  387.135   4074.135  Flagship store 1981-06-08      M   \n",
       "4        4   284  119.280   1255.280  Flagship store 1986-10-13      M   \n",
       "5        5  1141  599.025   6304.025             MBR 1970-06-26      F   \n",
       "6        4   897  376.740   3964.740  Flagship store 1983-10-08      M   \n",
       "...    ...   ...      ...        ...             ...        ...    ...   \n",
       "23048    5   788  413.700   4353.700  Flagship store 1973-10-15      F   \n",
       "23049    2  1150  241.500   2541.500             MBR 1972-12-22      F   \n",
       "23050    5   668  350.700   3690.700          e-Shop 1981-05-08      M   \n",
       "23051    4   202   84.840    892.840  Flagship store 1988-12-14      F   \n",
       "23052    4  1477  620.340   6528.340          e-Shop 1984-01-21      F   \n",
       "\n",
       "       city_code  prod_cat prod_subcat  \n",
       "1            5.0  Clothing       Women  \n",
       "2            3.0  Clothing       Women  \n",
       "4            1.0  Clothing       Women  \n",
       "5           10.0  Clothing       Women  \n",
       "6            2.0  Clothing       Women  \n",
       "...          ...       ...         ...  \n",
       "23048        6.0      Bags       Women  \n",
       "23049        5.0      Bags       Women  \n",
       "23050        9.0      Bags       Women  \n",
       "23051        9.0      Bags       Women  \n",
       "23052        4.0      Bags       Women  \n",
       "\n",
       "[20876 rows x 15 columns]"
      ]
     },
     "execution_count": 87,
     "metadata": {},
     "output_type": "execute_result"
    }
   ],
   "source": [
    "nonNeg_Trans= cust_final.loc[cust_final[\"total_amt\"]>0,:]\n",
    "nonNeg_Trans"
   ]
  },
  {
   "cell_type": "code",
   "execution_count": 94,
   "id": "c2f95b0c",
   "metadata": {},
   "outputs": [
    {
     "data": {
      "text/html": [
       "<div>\n",
       "<style scoped>\n",
       "    .dataframe tbody tr th:only-of-type {\n",
       "        vertical-align: middle;\n",
       "    }\n",
       "\n",
       "    .dataframe tbody tr th {\n",
       "        vertical-align: top;\n",
       "    }\n",
       "\n",
       "    .dataframe thead th {\n",
       "        text-align: right;\n",
       "    }\n",
       "</style>\n",
       "<table border=\"1\" class=\"dataframe\">\n",
       "  <thead>\n",
       "    <tr style=\"text-align: right;\">\n",
       "      <th></th>\n",
       "      <th>cust_id</th>\n",
       "      <th>prod_cat</th>\n",
       "      <th>prod_subcat</th>\n",
       "      <th>transaction_id</th>\n",
       "    </tr>\n",
       "  </thead>\n",
       "  <tbody>\n",
       "    <tr>\n",
       "      <th>0</th>\n",
       "      <td>266783</td>\n",
       "      <td>Books</td>\n",
       "      <td>Non-Fiction</td>\n",
       "      <td>1</td>\n",
       "    </tr>\n",
       "    <tr>\n",
       "      <th>1</th>\n",
       "      <td>266783</td>\n",
       "      <td>Clothing</td>\n",
       "      <td>Mens</td>\n",
       "      <td>2</td>\n",
       "    </tr>\n",
       "    <tr>\n",
       "      <th>2</th>\n",
       "      <td>266783</td>\n",
       "      <td>Footwear</td>\n",
       "      <td>Mens</td>\n",
       "      <td>1</td>\n",
       "    </tr>\n",
       "    <tr>\n",
       "      <th>3</th>\n",
       "      <td>266784</td>\n",
       "      <td>Books</td>\n",
       "      <td>Fiction</td>\n",
       "      <td>1</td>\n",
       "    </tr>\n",
       "    <tr>\n",
       "      <th>4</th>\n",
       "      <td>266784</td>\n",
       "      <td>Books</td>\n",
       "      <td>Non-Fiction</td>\n",
       "      <td>1</td>\n",
       "    </tr>\n",
       "    <tr>\n",
       "      <th>...</th>\n",
       "      <td>...</td>\n",
       "      <td>...</td>\n",
       "      <td>...</td>\n",
       "      <td>...</td>\n",
       "    </tr>\n",
       "    <tr>\n",
       "      <th>19273</th>\n",
       "      <td>275264</td>\n",
       "      <td>Books</td>\n",
       "      <td>Non-Fiction</td>\n",
       "      <td>1</td>\n",
       "    </tr>\n",
       "    <tr>\n",
       "      <th>19274</th>\n",
       "      <td>275264</td>\n",
       "      <td>Home and kitchen</td>\n",
       "      <td>Tools</td>\n",
       "      <td>1</td>\n",
       "    </tr>\n",
       "    <tr>\n",
       "      <th>19275</th>\n",
       "      <td>275265</td>\n",
       "      <td>Bags</td>\n",
       "      <td>Mens</td>\n",
       "      <td>1</td>\n",
       "    </tr>\n",
       "    <tr>\n",
       "      <th>19276</th>\n",
       "      <td>275265</td>\n",
       "      <td>Books</td>\n",
       "      <td>Academic</td>\n",
       "      <td>1</td>\n",
       "    </tr>\n",
       "    <tr>\n",
       "      <th>19277</th>\n",
       "      <td>275265</td>\n",
       "      <td>Home and kitchen</td>\n",
       "      <td>Furnishing</td>\n",
       "      <td>1</td>\n",
       "    </tr>\n",
       "  </tbody>\n",
       "</table>\n",
       "<p>19278 rows × 4 columns</p>\n",
       "</div>"
      ],
      "text/plain": [
       "       cust_id          prod_cat  prod_subcat  transaction_id\n",
       "0       266783             Books  Non-Fiction               1\n",
       "1       266783          Clothing         Mens               2\n",
       "2       266783          Footwear         Mens               1\n",
       "3       266784             Books      Fiction               1\n",
       "4       266784             Books  Non-Fiction               1\n",
       "...        ...               ...          ...             ...\n",
       "19273   275264             Books  Non-Fiction               1\n",
       "19274   275264  Home and kitchen        Tools               1\n",
       "19275   275265              Bags         Mens               1\n",
       "19276   275265             Books     Academic               1\n",
       "19277   275265  Home and kitchen   Furnishing               1\n",
       "\n",
       "[19278 rows x 4 columns]"
      ]
     },
     "execution_count": 94,
     "metadata": {},
     "output_type": "execute_result"
    }
   ],
   "source": [
    "Unique_Trans = nonNeg_Trans.groupby([\"cust_id\",\"prod_cat\",\"prod_subcat\"])[\"transaction_id\"].count().reset_index()\n",
    "Unique_Trans\n"
   ]
  },
  {
   "cell_type": "code",
   "execution_count": 90,
   "id": "0f59e86c",
   "metadata": {},
   "outputs": [
    {
     "data": {
      "text/html": [
       "<div>\n",
       "<style scoped>\n",
       "    .dataframe tbody tr th:only-of-type {\n",
       "        vertical-align: middle;\n",
       "    }\n",
       "\n",
       "    .dataframe tbody tr th {\n",
       "        vertical-align: top;\n",
       "    }\n",
       "\n",
       "    .dataframe thead th {\n",
       "        text-align: right;\n",
       "    }\n",
       "</style>\n",
       "<table border=\"1\" class=\"dataframe\">\n",
       "  <thead>\n",
       "    <tr style=\"text-align: right;\">\n",
       "      <th></th>\n",
       "      <th>cust_id</th>\n",
       "      <th>transaction_id</th>\n",
       "    </tr>\n",
       "  </thead>\n",
       "  <tbody>\n",
       "    <tr>\n",
       "      <th>0</th>\n",
       "      <td>266783</td>\n",
       "      <td>3</td>\n",
       "    </tr>\n",
       "    <tr>\n",
       "      <th>1</th>\n",
       "      <td>266784</td>\n",
       "      <td>3</td>\n",
       "    </tr>\n",
       "    <tr>\n",
       "      <th>2</th>\n",
       "      <td>266785</td>\n",
       "      <td>5</td>\n",
       "    </tr>\n",
       "    <tr>\n",
       "      <th>3</th>\n",
       "      <td>266788</td>\n",
       "      <td>4</td>\n",
       "    </tr>\n",
       "    <tr>\n",
       "      <th>4</th>\n",
       "      <td>266794</td>\n",
       "      <td>8</td>\n",
       "    </tr>\n",
       "    <tr>\n",
       "      <th>...</th>\n",
       "      <td>...</td>\n",
       "      <td>...</td>\n",
       "    </tr>\n",
       "    <tr>\n",
       "      <th>5501</th>\n",
       "      <td>275257</td>\n",
       "      <td>4</td>\n",
       "    </tr>\n",
       "    <tr>\n",
       "      <th>5502</th>\n",
       "      <td>275261</td>\n",
       "      <td>3</td>\n",
       "    </tr>\n",
       "    <tr>\n",
       "      <th>5503</th>\n",
       "      <td>275262</td>\n",
       "      <td>2</td>\n",
       "    </tr>\n",
       "    <tr>\n",
       "      <th>5504</th>\n",
       "      <td>275264</td>\n",
       "      <td>2</td>\n",
       "    </tr>\n",
       "    <tr>\n",
       "      <th>5505</th>\n",
       "      <td>275265</td>\n",
       "      <td>3</td>\n",
       "    </tr>\n",
       "  </tbody>\n",
       "</table>\n",
       "<p>5506 rows × 2 columns</p>\n",
       "</div>"
      ],
      "text/plain": [
       "      cust_id  transaction_id\n",
       "0      266783               3\n",
       "1      266784               3\n",
       "2      266785               5\n",
       "3      266788               4\n",
       "4      266794               8\n",
       "...       ...             ...\n",
       "5501   275257               4\n",
       "5502   275261               3\n",
       "5503   275262               2\n",
       "5504   275264               2\n",
       "5505   275265               3\n",
       "\n",
       "[5506 rows x 2 columns]"
      ]
     },
     "execution_count": 90,
     "metadata": {},
     "output_type": "execute_result"
    }
   ],
   "source": [
    "Unique_trans_count = Unique_Trans.groupby(\"cust_id\")[\"transaction_id\"].count().reset_index()\n",
    "Unique_trans_count"
   ]
  },
  {
   "cell_type": "code",
   "execution_count": 95,
   "id": "6d7dc016",
   "metadata": {},
   "outputs": [
    {
     "data": {
      "text/html": [
       "<div>\n",
       "<style scoped>\n",
       "    .dataframe tbody tr th:only-of-type {\n",
       "        vertical-align: middle;\n",
       "    }\n",
       "\n",
       "    .dataframe tbody tr th {\n",
       "        vertical-align: top;\n",
       "    }\n",
       "\n",
       "    .dataframe thead th {\n",
       "        text-align: right;\n",
       "    }\n",
       "</style>\n",
       "<table border=\"1\" class=\"dataframe\">\n",
       "  <thead>\n",
       "    <tr style=\"text-align: right;\">\n",
       "      <th></th>\n",
       "      <th>cust_id</th>\n",
       "      <th>transaction_id</th>\n",
       "    </tr>\n",
       "  </thead>\n",
       "  <tbody>\n",
       "  </tbody>\n",
       "</table>\n",
       "</div>"
      ],
      "text/plain": [
       "Empty DataFrame\n",
       "Columns: [cust_id, transaction_id]\n",
       "Index: []"
      ]
     },
     "execution_count": 95,
     "metadata": {},
     "output_type": "execute_result"
    }
   ],
   "source": [
    "Unique_trans_count[Unique_trans_count[\"transaction_id\"]>10]"
   ]
  },
  {
   "cell_type": "markdown",
   "id": "233f2c45",
   "metadata": {},
   "source": [
    "11. For all customers aged between 25 - 35, find out:\n"
   ]
  },
  {
   "cell_type": "markdown",
   "id": "0cdb42fe",
   "metadata": {},
   "source": [
    "a. What was the total amount spent for “Electronics” and “Books” product categories?\n"
   ]
  },
  {
   "cell_type": "code",
   "execution_count": 99,
   "id": "e2e2a70b",
   "metadata": {},
   "outputs": [],
   "source": [
    "#create a new column Age in years\n",
    "now = pd.Timestamp('now')\n",
    "cust_final['DOB'] = pd.to_datetime(cust_final['DOB'], format='%m%d%y')    \n",
    "cust_final['DOB'] = cust_final['DOB'].where(cust_final['DOB'] < now, cust_final['DOB'] -np.timedelta64(1, 'Y')) \n",
    "cust_final['AGE'] = (now - cust_final['DOB']).astype('<m8[Y]')\n",
    "\n",
    "#astype('<m8[Y]') -gives age in year else without it we will get only number of days\n",
    "#timedelta64 is used to represent the number of units, and a date/time unit,\n",
    "#timedelta64[1,'y'] maps to  <M8['y']"
   ]
  },
  {
   "cell_type": "code",
   "execution_count": 100,
   "id": "98da2054",
   "metadata": {},
   "outputs": [
    {
     "data": {
      "text/html": [
       "<div>\n",
       "<style scoped>\n",
       "    .dataframe tbody tr th:only-of-type {\n",
       "        vertical-align: middle;\n",
       "    }\n",
       "\n",
       "    .dataframe tbody tr th {\n",
       "        vertical-align: top;\n",
       "    }\n",
       "\n",
       "    .dataframe thead th {\n",
       "        text-align: right;\n",
       "    }\n",
       "</style>\n",
       "<table border=\"1\" class=\"dataframe\">\n",
       "  <thead>\n",
       "    <tr style=\"text-align: right;\">\n",
       "      <th></th>\n",
       "      <th>transaction_id</th>\n",
       "      <th>cust_id</th>\n",
       "      <th>tran_date</th>\n",
       "      <th>prod_sub_cat_code</th>\n",
       "      <th>prod_cat_code</th>\n",
       "      <th>Qty</th>\n",
       "      <th>Rate</th>\n",
       "      <th>Tax</th>\n",
       "      <th>total_amt</th>\n",
       "      <th>Store_type</th>\n",
       "      <th>DOB</th>\n",
       "      <th>Gender</th>\n",
       "      <th>city_code</th>\n",
       "      <th>prod_cat</th>\n",
       "      <th>prod_subcat</th>\n",
       "      <th>AGE</th>\n",
       "    </tr>\n",
       "  </thead>\n",
       "  <tbody>\n",
       "    <tr>\n",
       "      <th>0</th>\n",
       "      <td>80712190438</td>\n",
       "      <td>270351</td>\n",
       "      <td>2014-02-28</td>\n",
       "      <td>1</td>\n",
       "      <td>1</td>\n",
       "      <td>-5</td>\n",
       "      <td>-772</td>\n",
       "      <td>405.3</td>\n",
       "      <td>-4265.3</td>\n",
       "      <td>e-Shop</td>\n",
       "      <td>1981-09-26</td>\n",
       "      <td>M</td>\n",
       "      <td>5.0</td>\n",
       "      <td>Clothing</td>\n",
       "      <td>Women</td>\n",
       "      <td>40.0</td>\n",
       "    </tr>\n",
       "  </tbody>\n",
       "</table>\n",
       "</div>"
      ],
      "text/plain": [
       "   transaction_id  cust_id  tran_date  prod_sub_cat_code  prod_cat_code  Qty  \\\n",
       "0     80712190438   270351 2014-02-28                  1              1   -5   \n",
       "\n",
       "   Rate    Tax  total_amt Store_type        DOB Gender  city_code  prod_cat  \\\n",
       "0  -772  405.3    -4265.3     e-Shop 1981-09-26      M        5.0  Clothing   \n",
       "\n",
       "  prod_subcat   AGE  \n",
       "0       Women  40.0  "
      ]
     },
     "execution_count": 100,
     "metadata": {},
     "output_type": "execute_result"
    }
   ],
   "source": [
    "cust_final.head(1)"
   ]
  },
  {
   "cell_type": "code",
   "execution_count": 101,
   "id": "04009e73",
   "metadata": {},
   "outputs": [
    {
     "data": {
      "text/plain": [
       "array([40., 35., 51., 38., 32., 37., 39., 50., 44., 46., 33., 34., 48.,\n",
       "       30., 43., 31., 36., 45., 42., 49., 47., 29., 41., 52.])"
      ]
     },
     "execution_count": 101,
     "metadata": {},
     "output_type": "execute_result"
    }
   ],
   "source": [
    "cust_final['AGE'].unique()"
   ]
  },
  {
   "cell_type": "code",
   "execution_count": 102,
   "id": "acd8224e",
   "metadata": {},
   "outputs": [],
   "source": [
    "#create new coumn Age_cat\n",
    "cust_final['Age_cat'] = pd.cut(cust_final['AGE'],bins=[24,35,46,57],labels=['25-35','36-46','47-57'],include_lowest=True)"
   ]
  },
  {
   "cell_type": "code",
   "execution_count": 103,
   "id": "47ce16be",
   "metadata": {},
   "outputs": [
    {
     "data": {
      "text/html": [
       "<div>\n",
       "<style scoped>\n",
       "    .dataframe tbody tr th:only-of-type {\n",
       "        vertical-align: middle;\n",
       "    }\n",
       "\n",
       "    .dataframe tbody tr th {\n",
       "        vertical-align: top;\n",
       "    }\n",
       "\n",
       "    .dataframe thead th {\n",
       "        text-align: right;\n",
       "    }\n",
       "</style>\n",
       "<table border=\"1\" class=\"dataframe\">\n",
       "  <thead>\n",
       "    <tr style=\"text-align: right;\">\n",
       "      <th></th>\n",
       "      <th>transaction_id</th>\n",
       "      <th>cust_id</th>\n",
       "      <th>tran_date</th>\n",
       "      <th>prod_sub_cat_code</th>\n",
       "      <th>prod_cat_code</th>\n",
       "      <th>Qty</th>\n",
       "      <th>Rate</th>\n",
       "      <th>Tax</th>\n",
       "      <th>total_amt</th>\n",
       "      <th>Store_type</th>\n",
       "      <th>DOB</th>\n",
       "      <th>Gender</th>\n",
       "      <th>city_code</th>\n",
       "      <th>prod_cat</th>\n",
       "      <th>prod_subcat</th>\n",
       "      <th>AGE</th>\n",
       "      <th>Age_cat</th>\n",
       "    </tr>\n",
       "  </thead>\n",
       "  <tbody>\n",
       "    <tr>\n",
       "      <th>0</th>\n",
       "      <td>80712190438</td>\n",
       "      <td>270351</td>\n",
       "      <td>2014-02-28</td>\n",
       "      <td>1</td>\n",
       "      <td>1</td>\n",
       "      <td>-5</td>\n",
       "      <td>-772</td>\n",
       "      <td>405.300</td>\n",
       "      <td>-4265.300</td>\n",
       "      <td>e-Shop</td>\n",
       "      <td>1981-09-26</td>\n",
       "      <td>M</td>\n",
       "      <td>5.0</td>\n",
       "      <td>Clothing</td>\n",
       "      <td>Women</td>\n",
       "      <td>40.0</td>\n",
       "      <td>36-46</td>\n",
       "    </tr>\n",
       "    <tr>\n",
       "      <th>1</th>\n",
       "      <td>80712190438</td>\n",
       "      <td>270351</td>\n",
       "      <td>2014-02-20</td>\n",
       "      <td>1</td>\n",
       "      <td>1</td>\n",
       "      <td>5</td>\n",
       "      <td>772</td>\n",
       "      <td>405.300</td>\n",
       "      <td>4265.300</td>\n",
       "      <td>e-Shop</td>\n",
       "      <td>1981-09-26</td>\n",
       "      <td>M</td>\n",
       "      <td>5.0</td>\n",
       "      <td>Clothing</td>\n",
       "      <td>Women</td>\n",
       "      <td>40.0</td>\n",
       "      <td>36-46</td>\n",
       "    </tr>\n",
       "    <tr>\n",
       "      <th>2</th>\n",
       "      <td>18505840838</td>\n",
       "      <td>271509</td>\n",
       "      <td>2013-12-16</td>\n",
       "      <td>1</td>\n",
       "      <td>1</td>\n",
       "      <td>3</td>\n",
       "      <td>1229</td>\n",
       "      <td>387.135</td>\n",
       "      <td>4074.135</td>\n",
       "      <td>Flagship store</td>\n",
       "      <td>1981-06-08</td>\n",
       "      <td>M</td>\n",
       "      <td>3.0</td>\n",
       "      <td>Clothing</td>\n",
       "      <td>Women</td>\n",
       "      <td>40.0</td>\n",
       "      <td>36-46</td>\n",
       "    </tr>\n",
       "    <tr>\n",
       "      <th>3</th>\n",
       "      <td>92814475704</td>\n",
       "      <td>267750</td>\n",
       "      <td>2013-08-16</td>\n",
       "      <td>1</td>\n",
       "      <td>1</td>\n",
       "      <td>-4</td>\n",
       "      <td>-284</td>\n",
       "      <td>119.280</td>\n",
       "      <td>-1255.280</td>\n",
       "      <td>Flagship store</td>\n",
       "      <td>1986-10-13</td>\n",
       "      <td>M</td>\n",
       "      <td>1.0</td>\n",
       "      <td>Clothing</td>\n",
       "      <td>Women</td>\n",
       "      <td>35.0</td>\n",
       "      <td>25-35</td>\n",
       "    </tr>\n",
       "    <tr>\n",
       "      <th>4</th>\n",
       "      <td>92814475704</td>\n",
       "      <td>267750</td>\n",
       "      <td>2013-07-08</td>\n",
       "      <td>1</td>\n",
       "      <td>1</td>\n",
       "      <td>4</td>\n",
       "      <td>284</td>\n",
       "      <td>119.280</td>\n",
       "      <td>1255.280</td>\n",
       "      <td>Flagship store</td>\n",
       "      <td>1986-10-13</td>\n",
       "      <td>M</td>\n",
       "      <td>1.0</td>\n",
       "      <td>Clothing</td>\n",
       "      <td>Women</td>\n",
       "      <td>35.0</td>\n",
       "      <td>25-35</td>\n",
       "    </tr>\n",
       "  </tbody>\n",
       "</table>\n",
       "</div>"
      ],
      "text/plain": [
       "   transaction_id  cust_id  tran_date  prod_sub_cat_code  prod_cat_code  Qty  \\\n",
       "0     80712190438   270351 2014-02-28                  1              1   -5   \n",
       "1     80712190438   270351 2014-02-20                  1              1    5   \n",
       "2     18505840838   271509 2013-12-16                  1              1    3   \n",
       "3     92814475704   267750 2013-08-16                  1              1   -4   \n",
       "4     92814475704   267750 2013-07-08                  1              1    4   \n",
       "\n",
       "   Rate      Tax  total_amt      Store_type        DOB Gender  city_code  \\\n",
       "0  -772  405.300  -4265.300          e-Shop 1981-09-26      M        5.0   \n",
       "1   772  405.300   4265.300          e-Shop 1981-09-26      M        5.0   \n",
       "2  1229  387.135   4074.135  Flagship store 1981-06-08      M        3.0   \n",
       "3  -284  119.280  -1255.280  Flagship store 1986-10-13      M        1.0   \n",
       "4   284  119.280   1255.280  Flagship store 1986-10-13      M        1.0   \n",
       "\n",
       "   prod_cat prod_subcat   AGE Age_cat  \n",
       "0  Clothing       Women  40.0   36-46  \n",
       "1  Clothing       Women  40.0   36-46  \n",
       "2  Clothing       Women  40.0   36-46  \n",
       "3  Clothing       Women  35.0   25-35  \n",
       "4  Clothing       Women  35.0   25-35  "
      ]
     },
     "execution_count": 103,
     "metadata": {},
     "output_type": "execute_result"
    }
   ],
   "source": [
    "cust_final.head()"
   ]
  },
  {
   "cell_type": "code",
   "execution_count": 104,
   "id": "70952699",
   "metadata": {},
   "outputs": [],
   "source": [
    "Year_25_35 = cust_final.groupby(['Age_cat','prod_cat'])['total_amt'].sum()"
   ]
  },
  {
   "cell_type": "code",
   "execution_count": 105,
   "id": "bd6494cb",
   "metadata": {},
   "outputs": [
    {
     "data": {
      "text/plain": [
       "Age_cat  prod_cat        \n",
       "25-35    Bags                1154423.335\n",
       "         Books               3482813.035\n",
       "         Clothing            1985409.855\n",
       "         Electronics         3192596.940\n",
       "         Footwear            1899481.740\n",
       "         Home and kitchen    2488947.305\n",
       "36-46    Bags                1943546.930\n",
       "         Books               6367606.700\n",
       "         Clothing            2938118.755\n",
       "         Electronics         4980404.065\n",
       "         Footwear            2894842.535\n",
       "         Home and kitchen    4091348.690\n",
       "47-57    Bags                1028371.565\n",
       "         Books               2982172.895\n",
       "         Clothing            1327608.880\n",
       "         Electronics         2557704.825\n",
       "         Footwear            1431580.540\n",
       "         Home and kitchen    1864316.220\n",
       "Name: total_amt, dtype: float64"
      ]
     },
     "execution_count": 105,
     "metadata": {},
     "output_type": "execute_result"
    }
   ],
   "source": [
    "Year_25_35"
   ]
  },
  {
   "cell_type": "code",
   "execution_count": 106,
   "id": "d6a04758",
   "metadata": {},
   "outputs": [
    {
     "data": {
      "text/plain": [
       "Age_cat  prod_cat   \n",
       "25-35    Books          3482813.035\n",
       "         Electronics    3192596.940\n",
       "Name: total_amt, dtype: float64"
      ]
     },
     "execution_count": 106,
     "metadata": {},
     "output_type": "execute_result"
    }
   ],
   "source": [
    "Year_25_35.loc['25-35',['Books','Electronics']]"
   ]
  },
  {
   "cell_type": "code",
   "execution_count": 107,
   "id": "f8a3fd49",
   "metadata": {},
   "outputs": [
    {
     "data": {
      "text/plain": [
       "6675409.98"
      ]
     },
     "execution_count": 107,
     "metadata": {},
     "output_type": "execute_result"
    }
   ],
   "source": [
    "Year_25_35.loc['25-35',['Books','Electronics']].sum().round(2)"
   ]
  },
  {
   "cell_type": "markdown",
   "id": "9b1dfe46",
   "metadata": {},
   "source": [
    "b. What was the total amount spent by these customers between 1st Jan, 2014 to 1st Mar,\n",
    "2014?"
   ]
  },
  {
   "cell_type": "code",
   "execution_count": 90,
   "id": "93ad58bc",
   "metadata": {},
   "outputs": [
    {
     "data": {
      "text/html": [
       "<div>\n",
       "<style scoped>\n",
       "    .dataframe tbody tr th:only-of-type {\n",
       "        vertical-align: middle;\n",
       "    }\n",
       "\n",
       "    .dataframe tbody tr th {\n",
       "        vertical-align: top;\n",
       "    }\n",
       "\n",
       "    .dataframe thead th {\n",
       "        text-align: right;\n",
       "    }\n",
       "</style>\n",
       "<table border=\"1\" class=\"dataframe\">\n",
       "  <thead>\n",
       "    <tr style=\"text-align: right;\">\n",
       "      <th></th>\n",
       "      <th>transaction_id</th>\n",
       "      <th>cust_id</th>\n",
       "      <th>tran_date</th>\n",
       "      <th>prod_sub_cat_code</th>\n",
       "      <th>prod_cat_code</th>\n",
       "      <th>Qty</th>\n",
       "      <th>Rate</th>\n",
       "      <th>Tax</th>\n",
       "      <th>total_amt</th>\n",
       "      <th>Store_type</th>\n",
       "      <th>DOB</th>\n",
       "      <th>Gender</th>\n",
       "      <th>city_code</th>\n",
       "      <th>prod_cat</th>\n",
       "      <th>prod_subcat</th>\n",
       "      <th>AGE</th>\n",
       "      <th>Age_cat</th>\n",
       "    </tr>\n",
       "  </thead>\n",
       "  <tbody>\n",
       "    <tr>\n",
       "      <th>3</th>\n",
       "      <td>92814475704</td>\n",
       "      <td>267750</td>\n",
       "      <td>2013-08-16</td>\n",
       "      <td>1</td>\n",
       "      <td>1</td>\n",
       "      <td>-4</td>\n",
       "      <td>-284</td>\n",
       "      <td>119.28</td>\n",
       "      <td>-1255.28</td>\n",
       "      <td>Flagship store</td>\n",
       "      <td>1986-10-13</td>\n",
       "      <td>M</td>\n",
       "      <td>1.0</td>\n",
       "      <td>Clothing</td>\n",
       "      <td>Women</td>\n",
       "      <td>35.0</td>\n",
       "      <td>25-35</td>\n",
       "    </tr>\n",
       "    <tr>\n",
       "      <th>4</th>\n",
       "      <td>92814475704</td>\n",
       "      <td>267750</td>\n",
       "      <td>2013-07-08</td>\n",
       "      <td>1</td>\n",
       "      <td>1</td>\n",
       "      <td>4</td>\n",
       "      <td>284</td>\n",
       "      <td>119.28</td>\n",
       "      <td>1255.28</td>\n",
       "      <td>Flagship store</td>\n",
       "      <td>1986-10-13</td>\n",
       "      <td>M</td>\n",
       "      <td>1.0</td>\n",
       "      <td>Clothing</td>\n",
       "      <td>Women</td>\n",
       "      <td>35.0</td>\n",
       "      <td>25-35</td>\n",
       "    </tr>\n",
       "    <tr>\n",
       "      <th>7</th>\n",
       "      <td>90501340928</td>\n",
       "      <td>271817</td>\n",
       "      <td>2012-02-19</td>\n",
       "      <td>1</td>\n",
       "      <td>1</td>\n",
       "      <td>1</td>\n",
       "      <td>1122</td>\n",
       "      <td>117.81</td>\n",
       "      <td>1239.81</td>\n",
       "      <td>TeleShop</td>\n",
       "      <td>1989-12-24</td>\n",
       "      <td>M</td>\n",
       "      <td>8.0</td>\n",
       "      <td>Clothing</td>\n",
       "      <td>Women</td>\n",
       "      <td>32.0</td>\n",
       "      <td>25-35</td>\n",
       "    </tr>\n",
       "    <tr>\n",
       "      <th>11</th>\n",
       "      <td>90954125896</td>\n",
       "      <td>269387</td>\n",
       "      <td>2013-03-18</td>\n",
       "      <td>1</td>\n",
       "      <td>1</td>\n",
       "      <td>4</td>\n",
       "      <td>839</td>\n",
       "      <td>352.38</td>\n",
       "      <td>3708.38</td>\n",
       "      <td>MBR</td>\n",
       "      <td>1990-02-03</td>\n",
       "      <td>F</td>\n",
       "      <td>10.0</td>\n",
       "      <td>Clothing</td>\n",
       "      <td>Women</td>\n",
       "      <td>32.0</td>\n",
       "      <td>25-35</td>\n",
       "    </tr>\n",
       "    <tr>\n",
       "      <th>17</th>\n",
       "      <td>11999444239</td>\n",
       "      <td>268052</td>\n",
       "      <td>2012-06-18</td>\n",
       "      <td>1</td>\n",
       "      <td>1</td>\n",
       "      <td>2</td>\n",
       "      <td>1324</td>\n",
       "      <td>278.04</td>\n",
       "      <td>2926.04</td>\n",
       "      <td>Flagship store</td>\n",
       "      <td>1988-12-18</td>\n",
       "      <td>M</td>\n",
       "      <td>7.0</td>\n",
       "      <td>Clothing</td>\n",
       "      <td>Women</td>\n",
       "      <td>33.0</td>\n",
       "      <td>25-35</td>\n",
       "    </tr>\n",
       "  </tbody>\n",
       "</table>\n",
       "</div>"
      ],
      "text/plain": [
       "    transaction_id  cust_id  tran_date  prod_sub_cat_code  prod_cat_code  Qty  \\\n",
       "3      92814475704   267750 2013-08-16                  1              1   -4   \n",
       "4      92814475704   267750 2013-07-08                  1              1    4   \n",
       "7      90501340928   271817 2012-02-19                  1              1    1   \n",
       "11     90954125896   269387 2013-03-18                  1              1    4   \n",
       "17     11999444239   268052 2012-06-18                  1              1    2   \n",
       "\n",
       "    Rate     Tax  total_amt      Store_type        DOB Gender  city_code  \\\n",
       "3   -284  119.28   -1255.28  Flagship store 1986-10-13      M        1.0   \n",
       "4    284  119.28    1255.28  Flagship store 1986-10-13      M        1.0   \n",
       "7   1122  117.81    1239.81        TeleShop 1989-12-24      M        8.0   \n",
       "11   839  352.38    3708.38             MBR 1990-02-03      F       10.0   \n",
       "17  1324  278.04    2926.04  Flagship store 1988-12-18      M        7.0   \n",
       "\n",
       "    prod_cat prod_subcat   AGE Age_cat  \n",
       "3   Clothing       Women  35.0   25-35  \n",
       "4   Clothing       Women  35.0   25-35  \n",
       "7   Clothing       Women  32.0   25-35  \n",
       "11  Clothing       Women  32.0   25-35  \n",
       "17  Clothing       Women  33.0   25-35  "
      ]
     },
     "execution_count": 90,
     "metadata": {},
     "output_type": "execute_result"
    }
   ],
   "source": [
    "customer_total_amount_25_35 = cust_final[cust_final['Age_cat']=='25-35']\n",
    "customer_total_amount_25_35.head()"
   ]
  },
  {
   "cell_type": "code",
   "execution_count": 91,
   "id": "c18d79a0",
   "metadata": {},
   "outputs": [],
   "source": [
    "total_amount = customer_total_amount_25_35[(customer_total_amount_25_35['tran_date'] >='2014-01-01') & (customer_total_amount_25_35['tran_date'] <='2014-03-01')]"
   ]
  },
  {
   "cell_type": "code",
   "execution_count": 92,
   "id": "3830385b",
   "metadata": {},
   "outputs": [
    {
     "data": {
      "text/html": [
       "<div>\n",
       "<style scoped>\n",
       "    .dataframe tbody tr th:only-of-type {\n",
       "        vertical-align: middle;\n",
       "    }\n",
       "\n",
       "    .dataframe tbody tr th {\n",
       "        vertical-align: top;\n",
       "    }\n",
       "\n",
       "    .dataframe thead th {\n",
       "        text-align: right;\n",
       "    }\n",
       "</style>\n",
       "<table border=\"1\" class=\"dataframe\">\n",
       "  <thead>\n",
       "    <tr style=\"text-align: right;\">\n",
       "      <th></th>\n",
       "      <th>transaction_id</th>\n",
       "      <th>cust_id</th>\n",
       "      <th>tran_date</th>\n",
       "      <th>prod_sub_cat_code</th>\n",
       "      <th>prod_cat_code</th>\n",
       "      <th>Qty</th>\n",
       "      <th>Rate</th>\n",
       "      <th>Tax</th>\n",
       "      <th>total_amt</th>\n",
       "      <th>Store_type</th>\n",
       "      <th>DOB</th>\n",
       "      <th>Gender</th>\n",
       "      <th>city_code</th>\n",
       "      <th>prod_cat</th>\n",
       "      <th>prod_subcat</th>\n",
       "      <th>AGE</th>\n",
       "      <th>Age_cat</th>\n",
       "    </tr>\n",
       "  </thead>\n",
       "  <tbody>\n",
       "    <tr>\n",
       "      <th>20</th>\n",
       "      <td>73713102191</td>\n",
       "      <td>268867</td>\n",
       "      <td>2014-02-15</td>\n",
       "      <td>1</td>\n",
       "      <td>1</td>\n",
       "      <td>1</td>\n",
       "      <td>714</td>\n",
       "      <td>74.970</td>\n",
       "      <td>788.970</td>\n",
       "      <td>MBR</td>\n",
       "      <td>1987-10-24</td>\n",
       "      <td>F</td>\n",
       "      <td>4.0</td>\n",
       "      <td>Clothing</td>\n",
       "      <td>Women</td>\n",
       "      <td>34.0</td>\n",
       "      <td>25-35</td>\n",
       "    </tr>\n",
       "    <tr>\n",
       "      <th>23</th>\n",
       "      <td>57134739558</td>\n",
       "      <td>270625</td>\n",
       "      <td>2014-02-14</td>\n",
       "      <td>1</td>\n",
       "      <td>1</td>\n",
       "      <td>5</td>\n",
       "      <td>595</td>\n",
       "      <td>312.375</td>\n",
       "      <td>3287.375</td>\n",
       "      <td>TeleShop</td>\n",
       "      <td>1992-02-03</td>\n",
       "      <td>M</td>\n",
       "      <td>6.0</td>\n",
       "      <td>Clothing</td>\n",
       "      <td>Women</td>\n",
       "      <td>30.0</td>\n",
       "      <td>25-35</td>\n",
       "    </tr>\n",
       "    <tr>\n",
       "      <th>38</th>\n",
       "      <td>64939234724</td>\n",
       "      <td>270240</td>\n",
       "      <td>2014-01-29</td>\n",
       "      <td>1</td>\n",
       "      <td>1</td>\n",
       "      <td>4</td>\n",
       "      <td>644</td>\n",
       "      <td>270.480</td>\n",
       "      <td>2846.480</td>\n",
       "      <td>e-Shop</td>\n",
       "      <td>1988-12-07</td>\n",
       "      <td>M</td>\n",
       "      <td>1.0</td>\n",
       "      <td>Clothing</td>\n",
       "      <td>Women</td>\n",
       "      <td>33.0</td>\n",
       "      <td>25-35</td>\n",
       "    </tr>\n",
       "    <tr>\n",
       "      <th>45</th>\n",
       "      <td>65582112405</td>\n",
       "      <td>267243</td>\n",
       "      <td>2014-01-29</td>\n",
       "      <td>1</td>\n",
       "      <td>1</td>\n",
       "      <td>3</td>\n",
       "      <td>1259</td>\n",
       "      <td>396.585</td>\n",
       "      <td>4173.585</td>\n",
       "      <td>e-Shop</td>\n",
       "      <td>1990-03-19</td>\n",
       "      <td>F</td>\n",
       "      <td>6.0</td>\n",
       "      <td>Clothing</td>\n",
       "      <td>Women</td>\n",
       "      <td>32.0</td>\n",
       "      <td>25-35</td>\n",
       "    </tr>\n",
       "    <tr>\n",
       "      <th>63</th>\n",
       "      <td>87461360026</td>\n",
       "      <td>270831</td>\n",
       "      <td>2014-01-15</td>\n",
       "      <td>1</td>\n",
       "      <td>1</td>\n",
       "      <td>2</td>\n",
       "      <td>871</td>\n",
       "      <td>182.910</td>\n",
       "      <td>1924.910</td>\n",
       "      <td>Flagship store</td>\n",
       "      <td>1986-11-10</td>\n",
       "      <td>F</td>\n",
       "      <td>6.0</td>\n",
       "      <td>Clothing</td>\n",
       "      <td>Women</td>\n",
       "      <td>35.0</td>\n",
       "      <td>25-35</td>\n",
       "    </tr>\n",
       "    <tr>\n",
       "      <th>...</th>\n",
       "      <td>...</td>\n",
       "      <td>...</td>\n",
       "      <td>...</td>\n",
       "      <td>...</td>\n",
       "      <td>...</td>\n",
       "      <td>...</td>\n",
       "      <td>...</td>\n",
       "      <td>...</td>\n",
       "      <td>...</td>\n",
       "      <td>...</td>\n",
       "      <td>...</td>\n",
       "      <td>...</td>\n",
       "      <td>...</td>\n",
       "      <td>...</td>\n",
       "      <td>...</td>\n",
       "      <td>...</td>\n",
       "      <td>...</td>\n",
       "    </tr>\n",
       "    <tr>\n",
       "      <th>22198</th>\n",
       "      <td>60990415403</td>\n",
       "      <td>272399</td>\n",
       "      <td>2014-01-13</td>\n",
       "      <td>4</td>\n",
       "      <td>4</td>\n",
       "      <td>2</td>\n",
       "      <td>581</td>\n",
       "      <td>122.010</td>\n",
       "      <td>1284.010</td>\n",
       "      <td>Flagship store</td>\n",
       "      <td>1986-06-12</td>\n",
       "      <td>F</td>\n",
       "      <td>5.0</td>\n",
       "      <td>Bags</td>\n",
       "      <td>Women</td>\n",
       "      <td>35.0</td>\n",
       "      <td>25-35</td>\n",
       "    </tr>\n",
       "    <tr>\n",
       "      <th>22199</th>\n",
       "      <td>47691273998</td>\n",
       "      <td>272059</td>\n",
       "      <td>2014-01-15</td>\n",
       "      <td>4</td>\n",
       "      <td>4</td>\n",
       "      <td>4</td>\n",
       "      <td>146</td>\n",
       "      <td>61.320</td>\n",
       "      <td>645.320</td>\n",
       "      <td>Flagship store</td>\n",
       "      <td>1991-07-22</td>\n",
       "      <td>F</td>\n",
       "      <td>6.0</td>\n",
       "      <td>Bags</td>\n",
       "      <td>Women</td>\n",
       "      <td>30.0</td>\n",
       "      <td>25-35</td>\n",
       "    </tr>\n",
       "    <tr>\n",
       "      <th>22204</th>\n",
       "      <td>38702596038</td>\n",
       "      <td>274594</td>\n",
       "      <td>2014-01-14</td>\n",
       "      <td>4</td>\n",
       "      <td>4</td>\n",
       "      <td>5</td>\n",
       "      <td>815</td>\n",
       "      <td>427.875</td>\n",
       "      <td>4502.875</td>\n",
       "      <td>e-Shop</td>\n",
       "      <td>1989-01-21</td>\n",
       "      <td>M</td>\n",
       "      <td>5.0</td>\n",
       "      <td>Bags</td>\n",
       "      <td>Women</td>\n",
       "      <td>33.0</td>\n",
       "      <td>25-35</td>\n",
       "    </tr>\n",
       "    <tr>\n",
       "      <th>22206</th>\n",
       "      <td>69724469724</td>\n",
       "      <td>271352</td>\n",
       "      <td>2014-01-14</td>\n",
       "      <td>4</td>\n",
       "      <td>4</td>\n",
       "      <td>1</td>\n",
       "      <td>861</td>\n",
       "      <td>90.405</td>\n",
       "      <td>951.405</td>\n",
       "      <td>MBR</td>\n",
       "      <td>1992-07-18</td>\n",
       "      <td>M</td>\n",
       "      <td>8.0</td>\n",
       "      <td>Bags</td>\n",
       "      <td>Women</td>\n",
       "      <td>29.0</td>\n",
       "      <td>25-35</td>\n",
       "    </tr>\n",
       "    <tr>\n",
       "      <th>22240</th>\n",
       "      <td>92052844391</td>\n",
       "      <td>267263</td>\n",
       "      <td>2014-03-01</td>\n",
       "      <td>4</td>\n",
       "      <td>4</td>\n",
       "      <td>2</td>\n",
       "      <td>523</td>\n",
       "      <td>109.830</td>\n",
       "      <td>1155.830</td>\n",
       "      <td>MBR</td>\n",
       "      <td>1989-09-20</td>\n",
       "      <td>F</td>\n",
       "      <td>6.0</td>\n",
       "      <td>Bags</td>\n",
       "      <td>Women</td>\n",
       "      <td>32.0</td>\n",
       "      <td>25-35</td>\n",
       "    </tr>\n",
       "  </tbody>\n",
       "</table>\n",
       "<p>203 rows × 17 columns</p>\n",
       "</div>"
      ],
      "text/plain": [
       "       transaction_id  cust_id  tran_date  prod_sub_cat_code  prod_cat_code  \\\n",
       "20        73713102191   268867 2014-02-15                  1              1   \n",
       "23        57134739558   270625 2014-02-14                  1              1   \n",
       "38        64939234724   270240 2014-01-29                  1              1   \n",
       "45        65582112405   267243 2014-01-29                  1              1   \n",
       "63        87461360026   270831 2014-01-15                  1              1   \n",
       "...               ...      ...        ...                ...            ...   \n",
       "22198     60990415403   272399 2014-01-13                  4              4   \n",
       "22199     47691273998   272059 2014-01-15                  4              4   \n",
       "22204     38702596038   274594 2014-01-14                  4              4   \n",
       "22206     69724469724   271352 2014-01-14                  4              4   \n",
       "22240     92052844391   267263 2014-03-01                  4              4   \n",
       "\n",
       "       Qty  Rate      Tax  total_amt      Store_type        DOB Gender  \\\n",
       "20       1   714   74.970    788.970             MBR 1987-10-24      F   \n",
       "23       5   595  312.375   3287.375        TeleShop 1992-02-03      M   \n",
       "38       4   644  270.480   2846.480          e-Shop 1988-12-07      M   \n",
       "45       3  1259  396.585   4173.585          e-Shop 1990-03-19      F   \n",
       "63       2   871  182.910   1924.910  Flagship store 1986-11-10      F   \n",
       "...    ...   ...      ...        ...             ...        ...    ...   \n",
       "22198    2   581  122.010   1284.010  Flagship store 1986-06-12      F   \n",
       "22199    4   146   61.320    645.320  Flagship store 1991-07-22      F   \n",
       "22204    5   815  427.875   4502.875          e-Shop 1989-01-21      M   \n",
       "22206    1   861   90.405    951.405             MBR 1992-07-18      M   \n",
       "22240    2   523  109.830   1155.830             MBR 1989-09-20      F   \n",
       "\n",
       "       city_code  prod_cat prod_subcat   AGE Age_cat  \n",
       "20           4.0  Clothing       Women  34.0   25-35  \n",
       "23           6.0  Clothing       Women  30.0   25-35  \n",
       "38           1.0  Clothing       Women  33.0   25-35  \n",
       "45           6.0  Clothing       Women  32.0   25-35  \n",
       "63           6.0  Clothing       Women  35.0   25-35  \n",
       "...          ...       ...         ...   ...     ...  \n",
       "22198        5.0      Bags       Women  35.0   25-35  \n",
       "22199        6.0      Bags       Women  30.0   25-35  \n",
       "22204        5.0      Bags       Women  33.0   25-35  \n",
       "22206        8.0      Bags       Women  29.0   25-35  \n",
       "22240        6.0      Bags       Women  32.0   25-35  \n",
       "\n",
       "[203 rows x 17 columns]"
      ]
     },
     "execution_count": 92,
     "metadata": {},
     "output_type": "execute_result"
    }
   ],
   "source": [
    "total_amount"
   ]
  },
  {
   "cell_type": "code",
   "execution_count": 94,
   "id": "1d34a3e8",
   "metadata": {},
   "outputs": [
    {
     "data": {
      "text/plain": [
       "456079.91"
      ]
     },
     "execution_count": 94,
     "metadata": {},
     "output_type": "execute_result"
    }
   ],
   "source": [
    " total_amount['total_amt'].sum()"
   ]
  },
  {
   "cell_type": "code",
   "execution_count": 95,
   "id": "98f781c6",
   "metadata": {},
   "outputs": [
    {
     "name": "stdout",
     "output_type": "stream",
     "text": [
      "The total amount spent by customers aged 25-35 between 1st Jan 2014 to 1st Mar 2014 is  456079.91\n"
     ]
    }
   ],
   "source": [
    "print('The total amount spent by customers aged 25-35 between 1st Jan 2014 to 1st Mar 2014 is ',total_amount['total_amt'].sum())"
   ]
  }
 ],
 "metadata": {
  "kernelspec": {
   "display_name": "Python 3 (ipykernel)",
   "language": "python",
   "name": "python3"
  },
  "language_info": {
   "codemirror_mode": {
    "name": "ipython",
    "version": 3
   },
   "file_extension": ".py",
   "mimetype": "text/x-python",
   "name": "python",
   "nbconvert_exporter": "python",
   "pygments_lexer": "ipython3",
   "version": "3.9.7"
  }
 },
 "nbformat": 4,
 "nbformat_minor": 5
}
